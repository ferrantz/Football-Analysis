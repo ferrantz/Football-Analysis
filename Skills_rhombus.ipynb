{
 "cells": [
  {
   "cell_type": "markdown",
   "metadata": {},
   "source": [
    "### dataset import"
   ]
  },
  {
   "cell_type": "code",
   "execution_count": 1,
   "metadata": {},
   "outputs": [
    {
     "name": "stdout",
     "output_type": "stream",
     "text": [
      "(1535, 22)\n"
     ]
    },
    {
     "data": {
      "text/html": [
       "<div>\n",
       "<style scoped>\n",
       "    .dataframe tbody tr th:only-of-type {\n",
       "        vertical-align: middle;\n",
       "    }\n",
       "\n",
       "    .dataframe tbody tr th {\n",
       "        vertical-align: top;\n",
       "    }\n",
       "\n",
       "    .dataframe thead th {\n",
       "        text-align: right;\n",
       "    }\n",
       "</style>\n",
       "<table border=\"1\" class=\"dataframe\">\n",
       "  <thead>\n",
       "    <tr style=\"text-align: right;\">\n",
       "      <th></th>\n",
       "      <th>season</th>\n",
       "      <th>Player</th>\n",
       "      <th>Squad</th>\n",
       "      <th>player_positions</th>\n",
       "      <th>Incisività offensiva</th>\n",
       "      <th>Individualismo (palla in movimento)</th>\n",
       "      <th>Capacità di finalizzazione</th>\n",
       "      <th>Inefficacia del tiro</th>\n",
       "      <th>Gioco offensivo con palla in movimento</th>\n",
       "      <th>Altruismo</th>\n",
       "      <th>...</th>\n",
       "      <th>Passaggio propositivo e nell’ultimo 1/3 di campo</th>\n",
       "      <th>Gioco con palla in movimento</th>\n",
       "      <th>Inefficacia del passaggio</th>\n",
       "      <th>Alta propositività nella metà campo avversaria</th>\n",
       "      <th>Avanzamento e dribbling aggressivo/superfluo</th>\n",
       "      <th>shooting</th>\n",
       "      <th>passing</th>\n",
       "      <th>dribbling</th>\n",
       "      <th>defending</th>\n",
       "      <th>Overall_index</th>\n",
       "    </tr>\n",
       "  </thead>\n",
       "  <tbody>\n",
       "    <tr>\n",
       "      <td>0</td>\n",
       "      <td>2017/18</td>\n",
       "      <td>Rolando Aarons</td>\n",
       "      <td>Hellas Verona</td>\n",
       "      <td>CM, RB</td>\n",
       "      <td>-3.216049</td>\n",
       "      <td>-0.246008</td>\n",
       "      <td>-0.913542</td>\n",
       "      <td>0.782657</td>\n",
       "      <td>-0.116866</td>\n",
       "      <td>0.022182</td>\n",
       "      <td>...</td>\n",
       "      <td>-4.541649</td>\n",
       "      <td>0.677815</td>\n",
       "      <td>-0.132570</td>\n",
       "      <td>-2.737905</td>\n",
       "      <td>1.334183</td>\n",
       "      <td>62</td>\n",
       "      <td>65</td>\n",
       "      <td>76</td>\n",
       "      <td>32</td>\n",
       "      <td>71</td>\n",
       "    </tr>\n",
       "    <tr>\n",
       "      <td>1</td>\n",
       "      <td>2017/18</td>\n",
       "      <td>Ignazio Abate</td>\n",
       "      <td>Milan</td>\n",
       "      <td>RB</td>\n",
       "      <td>-0.875025</td>\n",
       "      <td>0.556874</td>\n",
       "      <td>0.245906</td>\n",
       "      <td>-2.164812</td>\n",
       "      <td>0.140740</td>\n",
       "      <td>0.614803</td>\n",
       "      <td>...</td>\n",
       "      <td>0.849643</td>\n",
       "      <td>-0.353673</td>\n",
       "      <td>-1.366043</td>\n",
       "      <td>-1.146317</td>\n",
       "      <td>-1.058065</td>\n",
       "      <td>52</td>\n",
       "      <td>71</td>\n",
       "      <td>77</td>\n",
       "      <td>74</td>\n",
       "      <td>78</td>\n",
       "    </tr>\n",
       "    <tr>\n",
       "      <td>2</td>\n",
       "      <td>2017/18</td>\n",
       "      <td>Francesco Acerbi</td>\n",
       "      <td>Sassuolo</td>\n",
       "      <td>CB</td>\n",
       "      <td>-2.289905</td>\n",
       "      <td>-0.327316</td>\n",
       "      <td>-1.177773</td>\n",
       "      <td>0.452532</td>\n",
       "      <td>-0.309609</td>\n",
       "      <td>-0.377837</td>\n",
       "      <td>...</td>\n",
       "      <td>7.165414</td>\n",
       "      <td>-4.833849</td>\n",
       "      <td>-0.319769</td>\n",
       "      <td>3.667118</td>\n",
       "      <td>-4.938407</td>\n",
       "      <td>50</td>\n",
       "      <td>58</td>\n",
       "      <td>58</td>\n",
       "      <td>85</td>\n",
       "      <td>82</td>\n",
       "    </tr>\n",
       "    <tr>\n",
       "      <td>3</td>\n",
       "      <td>2017/18</td>\n",
       "      <td>Afriyie Acquah</td>\n",
       "      <td>Torino</td>\n",
       "      <td>CM</td>\n",
       "      <td>-2.050224</td>\n",
       "      <td>0.832823</td>\n",
       "      <td>-0.250295</td>\n",
       "      <td>-0.734579</td>\n",
       "      <td>0.187313</td>\n",
       "      <td>-0.420015</td>\n",
       "      <td>...</td>\n",
       "      <td>-2.337978</td>\n",
       "      <td>-1.145144</td>\n",
       "      <td>0.598671</td>\n",
       "      <td>-0.992824</td>\n",
       "      <td>-0.027114</td>\n",
       "      <td>63</td>\n",
       "      <td>68</td>\n",
       "      <td>75</td>\n",
       "      <td>72</td>\n",
       "      <td>74</td>\n",
       "    </tr>\n",
       "    <tr>\n",
       "      <td>4</td>\n",
       "      <td>2017/18</td>\n",
       "      <td>Claud Adjapong</td>\n",
       "      <td>Sassuolo</td>\n",
       "      <td>RB, RM</td>\n",
       "      <td>-1.047935</td>\n",
       "      <td>-0.236146</td>\n",
       "      <td>-0.614187</td>\n",
       "      <td>0.671591</td>\n",
       "      <td>-1.050796</td>\n",
       "      <td>-0.243246</td>\n",
       "      <td>...</td>\n",
       "      <td>-1.590082</td>\n",
       "      <td>0.304906</td>\n",
       "      <td>-1.638060</td>\n",
       "      <td>-0.352510</td>\n",
       "      <td>0.380957</td>\n",
       "      <td>51</td>\n",
       "      <td>60</td>\n",
       "      <td>72</td>\n",
       "      <td>66</td>\n",
       "      <td>69</td>\n",
       "    </tr>\n",
       "  </tbody>\n",
       "</table>\n",
       "<p>5 rows × 22 columns</p>\n",
       "</div>"
      ],
      "text/plain": [
       "    season            Player          Squad player_positions  \\\n",
       "0  2017/18    Rolando Aarons  Hellas Verona           CM, RB   \n",
       "1  2017/18     Ignazio Abate          Milan               RB   \n",
       "2  2017/18  Francesco Acerbi       Sassuolo               CB   \n",
       "3  2017/18    Afriyie Acquah         Torino               CM   \n",
       "4  2017/18    Claud Adjapong       Sassuolo           RB, RM   \n",
       "\n",
       "   Incisività offensiva  Individualismo (palla in movimento)  \\\n",
       "0             -3.216049                            -0.246008   \n",
       "1             -0.875025                             0.556874   \n",
       "2             -2.289905                            -0.327316   \n",
       "3             -2.050224                             0.832823   \n",
       "4             -1.047935                            -0.236146   \n",
       "\n",
       "   Capacità di finalizzazione  Inefficacia del tiro  \\\n",
       "0                   -0.913542              0.782657   \n",
       "1                    0.245906             -2.164812   \n",
       "2                   -1.177773              0.452532   \n",
       "3                   -0.250295             -0.734579   \n",
       "4                   -0.614187              0.671591   \n",
       "\n",
       "   Gioco offensivo con palla in movimento  Altruismo  ...  \\\n",
       "0                               -0.116866   0.022182  ...   \n",
       "1                                0.140740   0.614803  ...   \n",
       "2                               -0.309609  -0.377837  ...   \n",
       "3                                0.187313  -0.420015  ...   \n",
       "4                               -1.050796  -0.243246  ...   \n",
       "\n",
       "   Passaggio propositivo e nell’ultimo 1/3 di campo  \\\n",
       "0                                         -4.541649   \n",
       "1                                          0.849643   \n",
       "2                                          7.165414   \n",
       "3                                         -2.337978   \n",
       "4                                         -1.590082   \n",
       "\n",
       "   Gioco con palla in movimento  Inefficacia del passaggio  \\\n",
       "0                      0.677815                  -0.132570   \n",
       "1                     -0.353673                  -1.366043   \n",
       "2                     -4.833849                  -0.319769   \n",
       "3                     -1.145144                   0.598671   \n",
       "4                      0.304906                  -1.638060   \n",
       "\n",
       "   Alta propositività nella metà campo avversaria  \\\n",
       "0                                       -2.737905   \n",
       "1                                       -1.146317   \n",
       "2                                        3.667118   \n",
       "3                                       -0.992824   \n",
       "4                                       -0.352510   \n",
       "\n",
       "   Avanzamento e dribbling aggressivo/superfluo  shooting  passing  dribbling  \\\n",
       "0                                      1.334183        62       65         76   \n",
       "1                                     -1.058065        52       71         77   \n",
       "2                                     -4.938407        50       58         58   \n",
       "3                                     -0.027114        63       68         75   \n",
       "4                                      0.380957        51       60         72   \n",
       "\n",
       "   defending  Overall_index  \n",
       "0         32             71  \n",
       "1         74             78  \n",
       "2         85             82  \n",
       "3         72             74  \n",
       "4         66             69  \n",
       "\n",
       "[5 rows x 22 columns]"
      ]
     },
     "execution_count": 1,
     "metadata": {},
     "output_type": "execute_result"
    }
   ],
   "source": [
    "import pandas as pd\n",
    "import numpy as np\n",
    "\n",
    "#directory = '/content/drive/My Drive/progetto stat learning/tabelle'\n",
    "directory = 'C:\\\\Users\\\\Admin\\\\Documents\\\\University\\\\DataScience\\\\Statistical_data_analysis\\\\progetto_esame_modB\\\\SerieA\\\\FIFA_tables_csv'\n",
    "file = 'PCAdf.csv'\n",
    "df = pd.read_csv(f'{directory}/{file}')\n",
    "\n",
    "print(df.shape)\n",
    "df.head(5)"
   ]
  },
  {
   "cell_type": "code",
   "execution_count": 2,
   "metadata": {},
   "outputs": [
    {
     "data": {
      "text/html": [
       "<div>\n",
       "<style scoped>\n",
       "    .dataframe tbody tr th:only-of-type {\n",
       "        vertical-align: middle;\n",
       "    }\n",
       "\n",
       "    .dataframe tbody tr th {\n",
       "        vertical-align: top;\n",
       "    }\n",
       "\n",
       "    .dataframe thead th {\n",
       "        text-align: right;\n",
       "    }\n",
       "</style>\n",
       "<table border=\"1\" class=\"dataframe\">\n",
       "  <thead>\n",
       "    <tr style=\"text-align: right;\">\n",
       "      <th></th>\n",
       "      <th>season</th>\n",
       "      <th>Player</th>\n",
       "      <th>Squad</th>\n",
       "      <th>player_positions</th>\n",
       "      <th>Incisività offensiva</th>\n",
       "      <th>Individualismo (palla in movimento)</th>\n",
       "      <th>Capacità di finalizzazione</th>\n",
       "      <th>Inefficacia del tiro</th>\n",
       "      <th>Gioco offensivo con palla in movimento</th>\n",
       "      <th>Altruismo</th>\n",
       "      <th>...</th>\n",
       "      <th>Passaggio propositivo e nell’ultimo 1/3 di campo</th>\n",
       "      <th>Gioco con palla in movimento</th>\n",
       "      <th>Inefficacia del passaggio</th>\n",
       "      <th>Alta propositività nella metà campo avversaria</th>\n",
       "      <th>Avanzamento e dribbling aggressivo/superfluo</th>\n",
       "      <th>shooting</th>\n",
       "      <th>passing</th>\n",
       "      <th>dribbling</th>\n",
       "      <th>defending</th>\n",
       "      <th>Overall_index</th>\n",
       "    </tr>\n",
       "  </thead>\n",
       "  <tbody>\n",
       "    <tr>\n",
       "      <td>count</td>\n",
       "      <td>1535</td>\n",
       "      <td>1535</td>\n",
       "      <td>1535</td>\n",
       "      <td>1535</td>\n",
       "      <td>1535.000000</td>\n",
       "      <td>1535.000000</td>\n",
       "      <td>1535.000000</td>\n",
       "      <td>1535.000000</td>\n",
       "      <td>1535.000000</td>\n",
       "      <td>1535.000000</td>\n",
       "      <td>...</td>\n",
       "      <td>1535.000000</td>\n",
       "      <td>1535.000000</td>\n",
       "      <td>1535.000000</td>\n",
       "      <td>1535.000000</td>\n",
       "      <td>1535.000000</td>\n",
       "      <td>1535.000000</td>\n",
       "      <td>1535.000000</td>\n",
       "      <td>1535.000000</td>\n",
       "      <td>1535.000000</td>\n",
       "      <td>1535.000000</td>\n",
       "    </tr>\n",
       "    <tr>\n",
       "      <td>unique</td>\n",
       "      <td>3</td>\n",
       "      <td>820</td>\n",
       "      <td>25</td>\n",
       "      <td>175</td>\n",
       "      <td>NaN</td>\n",
       "      <td>NaN</td>\n",
       "      <td>NaN</td>\n",
       "      <td>NaN</td>\n",
       "      <td>NaN</td>\n",
       "      <td>NaN</td>\n",
       "      <td>...</td>\n",
       "      <td>NaN</td>\n",
       "      <td>NaN</td>\n",
       "      <td>NaN</td>\n",
       "      <td>NaN</td>\n",
       "      <td>NaN</td>\n",
       "      <td>NaN</td>\n",
       "      <td>NaN</td>\n",
       "      <td>NaN</td>\n",
       "      <td>NaN</td>\n",
       "      <td>NaN</td>\n",
       "    </tr>\n",
       "    <tr>\n",
       "      <td>top</td>\n",
       "      <td>2019/20</td>\n",
       "      <td>Romulo</td>\n",
       "      <td>Genoa</td>\n",
       "      <td>CB</td>\n",
       "      <td>NaN</td>\n",
       "      <td>NaN</td>\n",
       "      <td>NaN</td>\n",
       "      <td>NaN</td>\n",
       "      <td>NaN</td>\n",
       "      <td>NaN</td>\n",
       "      <td>...</td>\n",
       "      <td>NaN</td>\n",
       "      <td>NaN</td>\n",
       "      <td>NaN</td>\n",
       "      <td>NaN</td>\n",
       "      <td>NaN</td>\n",
       "      <td>NaN</td>\n",
       "      <td>NaN</td>\n",
       "      <td>NaN</td>\n",
       "      <td>NaN</td>\n",
       "      <td>NaN</td>\n",
       "    </tr>\n",
       "    <tr>\n",
       "      <td>freq</td>\n",
       "      <td>516</td>\n",
       "      <td>5</td>\n",
       "      <td>91</td>\n",
       "      <td>261</td>\n",
       "      <td>NaN</td>\n",
       "      <td>NaN</td>\n",
       "      <td>NaN</td>\n",
       "      <td>NaN</td>\n",
       "      <td>NaN</td>\n",
       "      <td>NaN</td>\n",
       "      <td>...</td>\n",
       "      <td>NaN</td>\n",
       "      <td>NaN</td>\n",
       "      <td>NaN</td>\n",
       "      <td>NaN</td>\n",
       "      <td>NaN</td>\n",
       "      <td>NaN</td>\n",
       "      <td>NaN</td>\n",
       "      <td>NaN</td>\n",
       "      <td>NaN</td>\n",
       "      <td>NaN</td>\n",
       "    </tr>\n",
       "    <tr>\n",
       "      <td>mean</td>\n",
       "      <td>NaN</td>\n",
       "      <td>NaN</td>\n",
       "      <td>NaN</td>\n",
       "      <td>NaN</td>\n",
       "      <td>0.062967</td>\n",
       "      <td>0.003625</td>\n",
       "      <td>-0.011126</td>\n",
       "      <td>-0.035999</td>\n",
       "      <td>-0.001132</td>\n",
       "      <td>0.005275</td>\n",
       "      <td>...</td>\n",
       "      <td>0.127381</td>\n",
       "      <td>-0.018162</td>\n",
       "      <td>0.009988</td>\n",
       "      <td>0.090581</td>\n",
       "      <td>-0.010860</td>\n",
       "      <td>58.082736</td>\n",
       "      <td>63.542020</td>\n",
       "      <td>69.179805</td>\n",
       "      <td>58.344625</td>\n",
       "      <td>73.816938</td>\n",
       "    </tr>\n",
       "    <tr>\n",
       "      <td>std</td>\n",
       "      <td>NaN</td>\n",
       "      <td>NaN</td>\n",
       "      <td>NaN</td>\n",
       "      <td>NaN</td>\n",
       "      <td>3.772306</td>\n",
       "      <td>1.873516</td>\n",
       "      <td>1.399351</td>\n",
       "      <td>1.413717</td>\n",
       "      <td>1.267836</td>\n",
       "      <td>1.100310</td>\n",
       "      <td>...</td>\n",
       "      <td>5.019814</td>\n",
       "      <td>2.299925</td>\n",
       "      <td>1.671925</td>\n",
       "      <td>3.452966</td>\n",
       "      <td>2.076674</td>\n",
       "      <td>15.349014</td>\n",
       "      <td>11.591511</td>\n",
       "      <td>10.341382</td>\n",
       "      <td>18.907320</td>\n",
       "      <td>6.122477</td>\n",
       "    </tr>\n",
       "    <tr>\n",
       "      <td>min</td>\n",
       "      <td>NaN</td>\n",
       "      <td>NaN</td>\n",
       "      <td>NaN</td>\n",
       "      <td>NaN</td>\n",
       "      <td>-3.494891</td>\n",
       "      <td>-10.037058</td>\n",
       "      <td>-7.527177</td>\n",
       "      <td>-7.837320</td>\n",
       "      <td>-6.652133</td>\n",
       "      <td>-4.210969</td>\n",
       "      <td>...</td>\n",
       "      <td>-6.396342</td>\n",
       "      <td>-8.677417</td>\n",
       "      <td>-6.568135</td>\n",
       "      <td>-4.513603</td>\n",
       "      <td>-7.354910</td>\n",
       "      <td>15.000000</td>\n",
       "      <td>27.000000</td>\n",
       "      <td>27.000000</td>\n",
       "      <td>17.000000</td>\n",
       "      <td>52.000000</td>\n",
       "    </tr>\n",
       "    <tr>\n",
       "      <td>25%</td>\n",
       "      <td>NaN</td>\n",
       "      <td>NaN</td>\n",
       "      <td>NaN</td>\n",
       "      <td>NaN</td>\n",
       "      <td>-2.510310</td>\n",
       "      <td>-0.777850</td>\n",
       "      <td>-0.800688</td>\n",
       "      <td>-0.734484</td>\n",
       "      <td>-0.470982</td>\n",
       "      <td>-0.510733</td>\n",
       "      <td>...</td>\n",
       "      <td>-4.105727</td>\n",
       "      <td>-1.107710</td>\n",
       "      <td>-0.613907</td>\n",
       "      <td>-2.826860</td>\n",
       "      <td>-1.077482</td>\n",
       "      <td>47.000000</td>\n",
       "      <td>56.000000</td>\n",
       "      <td>63.000000</td>\n",
       "      <td>40.000000</td>\n",
       "      <td>70.000000</td>\n",
       "    </tr>\n",
       "    <tr>\n",
       "      <td>50%</td>\n",
       "      <td>NaN</td>\n",
       "      <td>NaN</td>\n",
       "      <td>NaN</td>\n",
       "      <td>NaN</td>\n",
       "      <td>-1.196011</td>\n",
       "      <td>-0.201446</td>\n",
       "      <td>-0.256012</td>\n",
       "      <td>0.214902</td>\n",
       "      <td>-0.142904</td>\n",
       "      <td>0.005051</td>\n",
       "      <td>...</td>\n",
       "      <td>-1.145351</td>\n",
       "      <td>0.184684</td>\n",
       "      <td>0.190554</td>\n",
       "      <td>-0.591352</td>\n",
       "      <td>0.192401</td>\n",
       "      <td>62.000000</td>\n",
       "      <td>65.000000</td>\n",
       "      <td>71.000000</td>\n",
       "      <td>66.000000</td>\n",
       "      <td>74.000000</td>\n",
       "    </tr>\n",
       "    <tr>\n",
       "      <td>75%</td>\n",
       "      <td>NaN</td>\n",
       "      <td>NaN</td>\n",
       "      <td>NaN</td>\n",
       "      <td>NaN</td>\n",
       "      <td>1.387817</td>\n",
       "      <td>0.806823</td>\n",
       "      <td>0.548477</td>\n",
       "      <td>0.678018</td>\n",
       "      <td>0.353454</td>\n",
       "      <td>0.374801</td>\n",
       "      <td>...</td>\n",
       "      <td>3.335422</td>\n",
       "      <td>0.899887</td>\n",
       "      <td>0.823511</td>\n",
       "      <td>2.331755</td>\n",
       "      <td>1.131263</td>\n",
       "      <td>70.000000</td>\n",
       "      <td>72.000000</td>\n",
       "      <td>77.000000</td>\n",
       "      <td>73.000000</td>\n",
       "      <td>78.000000</td>\n",
       "    </tr>\n",
       "    <tr>\n",
       "      <td>max</td>\n",
       "      <td>NaN</td>\n",
       "      <td>NaN</td>\n",
       "      <td>NaN</td>\n",
       "      <td>NaN</td>\n",
       "      <td>23.612083</td>\n",
       "      <td>10.251296</td>\n",
       "      <td>13.056055</td>\n",
       "      <td>8.117594</td>\n",
       "      <td>10.616125</td>\n",
       "      <td>14.942209</td>\n",
       "      <td>...</td>\n",
       "      <td>19.894187</td>\n",
       "      <td>12.987038</td>\n",
       "      <td>11.116957</td>\n",
       "      <td>14.521582</td>\n",
       "      <td>7.645178</td>\n",
       "      <td>93.000000</td>\n",
       "      <td>90.000000</td>\n",
       "      <td>91.000000</td>\n",
       "      <td>91.000000</td>\n",
       "      <td>94.000000</td>\n",
       "    </tr>\n",
       "  </tbody>\n",
       "</table>\n",
       "<p>11 rows × 22 columns</p>\n",
       "</div>"
      ],
      "text/plain": [
       "         season  Player  Squad player_positions  Incisività offensiva  \\\n",
       "count      1535    1535   1535             1535           1535.000000   \n",
       "unique        3     820     25              175                   NaN   \n",
       "top     2019/20  Romulo  Genoa               CB                   NaN   \n",
       "freq        516       5     91              261                   NaN   \n",
       "mean        NaN     NaN    NaN              NaN              0.062967   \n",
       "std         NaN     NaN    NaN              NaN              3.772306   \n",
       "min         NaN     NaN    NaN              NaN             -3.494891   \n",
       "25%         NaN     NaN    NaN              NaN             -2.510310   \n",
       "50%         NaN     NaN    NaN              NaN             -1.196011   \n",
       "75%         NaN     NaN    NaN              NaN              1.387817   \n",
       "max         NaN     NaN    NaN              NaN             23.612083   \n",
       "\n",
       "        Individualismo (palla in movimento)  Capacità di finalizzazione  \\\n",
       "count                           1535.000000                 1535.000000   \n",
       "unique                                  NaN                         NaN   \n",
       "top                                     NaN                         NaN   \n",
       "freq                                    NaN                         NaN   \n",
       "mean                               0.003625                   -0.011126   \n",
       "std                                1.873516                    1.399351   \n",
       "min                              -10.037058                   -7.527177   \n",
       "25%                               -0.777850                   -0.800688   \n",
       "50%                               -0.201446                   -0.256012   \n",
       "75%                                0.806823                    0.548477   \n",
       "max                               10.251296                   13.056055   \n",
       "\n",
       "        Inefficacia del tiro  Gioco offensivo con palla in movimento  \\\n",
       "count            1535.000000                             1535.000000   \n",
       "unique                   NaN                                     NaN   \n",
       "top                      NaN                                     NaN   \n",
       "freq                     NaN                                     NaN   \n",
       "mean               -0.035999                               -0.001132   \n",
       "std                 1.413717                                1.267836   \n",
       "min                -7.837320                               -6.652133   \n",
       "25%                -0.734484                               -0.470982   \n",
       "50%                 0.214902                               -0.142904   \n",
       "75%                 0.678018                                0.353454   \n",
       "max                 8.117594                               10.616125   \n",
       "\n",
       "          Altruismo  ...  Passaggio propositivo e nell’ultimo 1/3 di campo  \\\n",
       "count   1535.000000  ...                                       1535.000000   \n",
       "unique          NaN  ...                                               NaN   \n",
       "top             NaN  ...                                               NaN   \n",
       "freq            NaN  ...                                               NaN   \n",
       "mean       0.005275  ...                                          0.127381   \n",
       "std        1.100310  ...                                          5.019814   \n",
       "min       -4.210969  ...                                         -6.396342   \n",
       "25%       -0.510733  ...                                         -4.105727   \n",
       "50%        0.005051  ...                                         -1.145351   \n",
       "75%        0.374801  ...                                          3.335422   \n",
       "max       14.942209  ...                                         19.894187   \n",
       "\n",
       "        Gioco con palla in movimento  Inefficacia del passaggio  \\\n",
       "count                    1535.000000                1535.000000   \n",
       "unique                           NaN                        NaN   \n",
       "top                              NaN                        NaN   \n",
       "freq                             NaN                        NaN   \n",
       "mean                       -0.018162                   0.009988   \n",
       "std                         2.299925                   1.671925   \n",
       "min                        -8.677417                  -6.568135   \n",
       "25%                        -1.107710                  -0.613907   \n",
       "50%                         0.184684                   0.190554   \n",
       "75%                         0.899887                   0.823511   \n",
       "max                        12.987038                  11.116957   \n",
       "\n",
       "        Alta propositività nella metà campo avversaria  \\\n",
       "count                                      1535.000000   \n",
       "unique                                             NaN   \n",
       "top                                                NaN   \n",
       "freq                                               NaN   \n",
       "mean                                          0.090581   \n",
       "std                                           3.452966   \n",
       "min                                          -4.513603   \n",
       "25%                                          -2.826860   \n",
       "50%                                          -0.591352   \n",
       "75%                                           2.331755   \n",
       "max                                          14.521582   \n",
       "\n",
       "        Avanzamento e dribbling aggressivo/superfluo     shooting  \\\n",
       "count                                    1535.000000  1535.000000   \n",
       "unique                                           NaN          NaN   \n",
       "top                                              NaN          NaN   \n",
       "freq                                             NaN          NaN   \n",
       "mean                                       -0.010860    58.082736   \n",
       "std                                         2.076674    15.349014   \n",
       "min                                        -7.354910    15.000000   \n",
       "25%                                        -1.077482    47.000000   \n",
       "50%                                         0.192401    62.000000   \n",
       "75%                                         1.131263    70.000000   \n",
       "max                                         7.645178    93.000000   \n",
       "\n",
       "            passing    dribbling    defending  Overall_index  \n",
       "count   1535.000000  1535.000000  1535.000000    1535.000000  \n",
       "unique          NaN          NaN          NaN            NaN  \n",
       "top             NaN          NaN          NaN            NaN  \n",
       "freq            NaN          NaN          NaN            NaN  \n",
       "mean      63.542020    69.179805    58.344625      73.816938  \n",
       "std       11.591511    10.341382    18.907320       6.122477  \n",
       "min       27.000000    27.000000    17.000000      52.000000  \n",
       "25%       56.000000    63.000000    40.000000      70.000000  \n",
       "50%       65.000000    71.000000    66.000000      74.000000  \n",
       "75%       72.000000    77.000000    73.000000      78.000000  \n",
       "max       90.000000    91.000000    91.000000      94.000000  \n",
       "\n",
       "[11 rows x 22 columns]"
      ]
     },
     "execution_count": 2,
     "metadata": {},
     "output_type": "execute_result"
    }
   ],
   "source": [
    "df.describe(include='all')"
   ]
  },
  {
   "cell_type": "code",
   "execution_count": 3,
   "metadata": {},
   "outputs": [
    {
     "name": "stdout",
     "output_type": "stream",
     "text": [
      "<class 'pandas.core.frame.DataFrame'>\n",
      "RangeIndex: 1535 entries, 0 to 1534\n",
      "Data columns (total 22 columns):\n",
      "season                                              1535 non-null object\n",
      "Player                                              1535 non-null object\n",
      "Squad                                               1535 non-null object\n",
      "player_positions                                    1535 non-null object\n",
      "Incisività offensiva                                1535 non-null float64\n",
      "Individualismo (palla in movimento)                 1535 non-null float64\n",
      "Capacità di finalizzazione                          1535 non-null float64\n",
      "Inefficacia del tiro                                1535 non-null float64\n",
      "Gioco offensivo con palla in movimento              1535 non-null float64\n",
      "Altruismo                                           1535 non-null float64\n",
      "Supremazia atletica / giocate aggressive            1535 non-null float64\n",
      "Pressing efficace in zona difensiva                 1535 non-null float64\n",
      "Passaggio propositivo e nell’ultimo 1/3 di campo    1535 non-null float64\n",
      "Gioco con palla in movimento                        1535 non-null float64\n",
      "Inefficacia del passaggio                           1535 non-null float64\n",
      "Alta propositività nella metà campo avversaria      1535 non-null float64\n",
      "Avanzamento e dribbling aggressivo/superfluo        1535 non-null float64\n",
      "shooting                                            1535 non-null int64\n",
      "passing                                             1535 non-null int64\n",
      "dribbling                                           1535 non-null int64\n",
      "defending                                           1535 non-null int64\n",
      "Overall_index                                       1535 non-null int64\n",
      "dtypes: float64(13), int64(5), object(4)\n",
      "memory usage: 264.0+ KB\n"
     ]
    }
   ],
   "source": [
    "df.info()"
   ]
  },
  {
   "cell_type": "markdown",
   "metadata": {},
   "source": [
    "# ATTACK"
   ]
  },
  {
   "cell_type": "code",
   "execution_count": 4,
   "metadata": {},
   "outputs": [],
   "source": [
    "shape = df.shape\n",
    "#season = df.columns[0]\n",
    "#player = df.columns[1]\n",
    "#team = df.columns[2]\n",
    "features = list(df.columns[4:10])\n",
    "\n",
    "# Separating out the features\n",
    "x = df.loc[:, features].values\n",
    "#print(np.mean(x, axis=0))\n",
    "#print(np.std(x, axis=0))\n",
    "\n",
    "y = df.loc[:, 'shooting'].values"
   ]
  },
  {
   "cell_type": "code",
   "execution_count": 5,
   "metadata": {},
   "outputs": [
    {
     "data": {
      "text/plain": [
       "['Incisività offensiva',\n",
       " 'Individualismo (palla in movimento)',\n",
       " 'Capacità di finalizzazione',\n",
       " 'Inefficacia del tiro',\n",
       " 'Gioco offensivo con palla in movimento',\n",
       " 'Altruismo']"
      ]
     },
     "execution_count": 5,
     "metadata": {},
     "output_type": "execute_result"
    }
   ],
   "source": [
    "features"
   ]
  },
  {
   "cell_type": "code",
   "execution_count": 6,
   "metadata": {},
   "outputs": [
    {
     "data": {
      "text/plain": [
       "Incisività offensiva                      0.562687\n",
       "Individualismo (palla in movimento)       0.053819\n",
       "Capacità di finalizzazione                0.230467\n",
       "Inefficacia del tiro                      0.172484\n",
       "Gioco offensivo con palla in movimento   -0.002286\n",
       "Altruismo                                -0.080183\n",
       "shooting                                  1.000000\n",
       "Name: shooting, dtype: float64"
      ]
     },
     "execution_count": 6,
     "metadata": {},
     "output_type": "execute_result"
    }
   ],
   "source": [
    "#CORRELAZIONE CON SHOOTING\n",
    "corr_df = df.iloc[:,4:10]\n",
    "corr_df['shooting'] = df.shooting \n",
    "corr_df = corr_df.corr()\n",
    "corr_df.iloc[:,-1]"
   ]
  },
  {
   "cell_type": "code",
   "execution_count": 8,
   "metadata": {},
   "outputs": [],
   "source": [
    "corr_df.to_csv('tmp.csv')"
   ]
  },
  {
   "cell_type": "code",
   "execution_count": 7,
   "metadata": {},
   "outputs": [
    {
     "data": {
      "text/html": [
       "<style  type=\"text/css\" >\n",
       "    #T_dbc6eb66_ecfd_11ea_9383_2c4d54283764row0_col0 {\n",
       "            background-color:  #b40426;\n",
       "            color:  #f1f1f1;\n",
       "            max-width:  10px;\n",
       "            font-size:  10pt;\n",
       "        }    #T_dbc6eb66_ecfd_11ea_9383_2c4d54283764row0_col1 {\n",
       "            background-color:  #5572df;\n",
       "            color:  #000000;\n",
       "            max-width:  10px;\n",
       "            font-size:  10pt;\n",
       "        }    #T_dbc6eb66_ecfd_11ea_9383_2c4d54283764row0_col2 {\n",
       "            background-color:  #516ddb;\n",
       "            color:  #000000;\n",
       "            max-width:  10px;\n",
       "            font-size:  10pt;\n",
       "        }    #T_dbc6eb66_ecfd_11ea_9383_2c4d54283764row0_col3 {\n",
       "            background-color:  #5875e1;\n",
       "            color:  #000000;\n",
       "            max-width:  10px;\n",
       "            font-size:  10pt;\n",
       "        }    #T_dbc6eb66_ecfd_11ea_9383_2c4d54283764row0_col4 {\n",
       "            background-color:  #5572df;\n",
       "            color:  #000000;\n",
       "            max-width:  10px;\n",
       "            font-size:  10pt;\n",
       "        }    #T_dbc6eb66_ecfd_11ea_9383_2c4d54283764row0_col5 {\n",
       "            background-color:  #5673e0;\n",
       "            color:  #000000;\n",
       "            max-width:  10px;\n",
       "            font-size:  10pt;\n",
       "        }    #T_dbc6eb66_ecfd_11ea_9383_2c4d54283764row0_col6 {\n",
       "            background-color:  #f2cab5;\n",
       "            color:  #000000;\n",
       "            max-width:  10px;\n",
       "            font-size:  10pt;\n",
       "        }    #T_dbc6eb66_ecfd_11ea_9383_2c4d54283764row1_col0 {\n",
       "            background-color:  #5572df;\n",
       "            color:  #000000;\n",
       "            max-width:  10px;\n",
       "            font-size:  10pt;\n",
       "        }    #T_dbc6eb66_ecfd_11ea_9383_2c4d54283764row1_col1 {\n",
       "            background-color:  #b40426;\n",
       "            color:  #f1f1f1;\n",
       "            max-width:  10px;\n",
       "            font-size:  10pt;\n",
       "        }    #T_dbc6eb66_ecfd_11ea_9383_2c4d54283764row1_col2 {\n",
       "            background-color:  #5875e1;\n",
       "            color:  #000000;\n",
       "            max-width:  10px;\n",
       "            font-size:  10pt;\n",
       "        }    #T_dbc6eb66_ecfd_11ea_9383_2c4d54283764row1_col3 {\n",
       "            background-color:  #5673e0;\n",
       "            color:  #000000;\n",
       "            max-width:  10px;\n",
       "            font-size:  10pt;\n",
       "        }    #T_dbc6eb66_ecfd_11ea_9383_2c4d54283764row1_col4 {\n",
       "            background-color:  #5572df;\n",
       "            color:  #000000;\n",
       "            max-width:  10px;\n",
       "            font-size:  10pt;\n",
       "        }    #T_dbc6eb66_ecfd_11ea_9383_2c4d54283764row1_col5 {\n",
       "            background-color:  #5977e3;\n",
       "            color:  #000000;\n",
       "            max-width:  10px;\n",
       "            font-size:  10pt;\n",
       "        }    #T_dbc6eb66_ecfd_11ea_9383_2c4d54283764row1_col6 {\n",
       "            background-color:  #6687ed;\n",
       "            color:  #000000;\n",
       "            max-width:  10px;\n",
       "            font-size:  10pt;\n",
       "        }    #T_dbc6eb66_ecfd_11ea_9383_2c4d54283764row2_col0 {\n",
       "            background-color:  #516ddb;\n",
       "            color:  #000000;\n",
       "            max-width:  10px;\n",
       "            font-size:  10pt;\n",
       "        }    #T_dbc6eb66_ecfd_11ea_9383_2c4d54283764row2_col1 {\n",
       "            background-color:  #5875e1;\n",
       "            color:  #000000;\n",
       "            max-width:  10px;\n",
       "            font-size:  10pt;\n",
       "        }    #T_dbc6eb66_ecfd_11ea_9383_2c4d54283764row2_col2 {\n",
       "            background-color:  #b40426;\n",
       "            color:  #f1f1f1;\n",
       "            max-width:  10px;\n",
       "            font-size:  10pt;\n",
       "        }    #T_dbc6eb66_ecfd_11ea_9383_2c4d54283764row2_col3 {\n",
       "            background-color:  #3b4cc0;\n",
       "            color:  #f1f1f1;\n",
       "            max-width:  10px;\n",
       "            font-size:  10pt;\n",
       "        }    #T_dbc6eb66_ecfd_11ea_9383_2c4d54283764row2_col4 {\n",
       "            background-color:  #4b64d5;\n",
       "            color:  #f1f1f1;\n",
       "            max-width:  10px;\n",
       "            font-size:  10pt;\n",
       "        }    #T_dbc6eb66_ecfd_11ea_9383_2c4d54283764row2_col5 {\n",
       "            background-color:  #5f7fe8;\n",
       "            color:  #000000;\n",
       "            max-width:  10px;\n",
       "            font-size:  10pt;\n",
       "        }    #T_dbc6eb66_ecfd_11ea_9383_2c4d54283764row2_col6 {\n",
       "            background-color:  #9ebeff;\n",
       "            color:  #000000;\n",
       "            max-width:  10px;\n",
       "            font-size:  10pt;\n",
       "        }    #T_dbc6eb66_ecfd_11ea_9383_2c4d54283764row3_col0 {\n",
       "            background-color:  #5875e1;\n",
       "            color:  #000000;\n",
       "            max-width:  10px;\n",
       "            font-size:  10pt;\n",
       "        }    #T_dbc6eb66_ecfd_11ea_9383_2c4d54283764row3_col1 {\n",
       "            background-color:  #5673e0;\n",
       "            color:  #000000;\n",
       "            max-width:  10px;\n",
       "            font-size:  10pt;\n",
       "        }    #T_dbc6eb66_ecfd_11ea_9383_2c4d54283764row3_col2 {\n",
       "            background-color:  #3b4cc0;\n",
       "            color:  #f1f1f1;\n",
       "            max-width:  10px;\n",
       "            font-size:  10pt;\n",
       "        }    #T_dbc6eb66_ecfd_11ea_9383_2c4d54283764row3_col3 {\n",
       "            background-color:  #b40426;\n",
       "            color:  #f1f1f1;\n",
       "            max-width:  10px;\n",
       "            font-size:  10pt;\n",
       "        }    #T_dbc6eb66_ecfd_11ea_9383_2c4d54283764row3_col4 {\n",
       "            background-color:  #4f69d9;\n",
       "            color:  #000000;\n",
       "            max-width:  10px;\n",
       "            font-size:  10pt;\n",
       "        }    #T_dbc6eb66_ecfd_11ea_9383_2c4d54283764row3_col5 {\n",
       "            background-color:  #5f7fe8;\n",
       "            color:  #000000;\n",
       "            max-width:  10px;\n",
       "            font-size:  10pt;\n",
       "        }    #T_dbc6eb66_ecfd_11ea_9383_2c4d54283764row3_col6 {\n",
       "            background-color:  #8caffe;\n",
       "            color:  #000000;\n",
       "            max-width:  10px;\n",
       "            font-size:  10pt;\n",
       "        }    #T_dbc6eb66_ecfd_11ea_9383_2c4d54283764row4_col0 {\n",
       "            background-color:  #5572df;\n",
       "            color:  #000000;\n",
       "            max-width:  10px;\n",
       "            font-size:  10pt;\n",
       "        }    #T_dbc6eb66_ecfd_11ea_9383_2c4d54283764row4_col1 {\n",
       "            background-color:  #5572df;\n",
       "            color:  #000000;\n",
       "            max-width:  10px;\n",
       "            font-size:  10pt;\n",
       "        }    #T_dbc6eb66_ecfd_11ea_9383_2c4d54283764row4_col2 {\n",
       "            background-color:  #4b64d5;\n",
       "            color:  #f1f1f1;\n",
       "            max-width:  10px;\n",
       "            font-size:  10pt;\n",
       "        }    #T_dbc6eb66_ecfd_11ea_9383_2c4d54283764row4_col3 {\n",
       "            background-color:  #4f69d9;\n",
       "            color:  #000000;\n",
       "            max-width:  10px;\n",
       "            font-size:  10pt;\n",
       "        }    #T_dbc6eb66_ecfd_11ea_9383_2c4d54283764row4_col4 {\n",
       "            background-color:  #b40426;\n",
       "            color:  #f1f1f1;\n",
       "            max-width:  10px;\n",
       "            font-size:  10pt;\n",
       "        }    #T_dbc6eb66_ecfd_11ea_9383_2c4d54283764row4_col5 {\n",
       "            background-color:  #5a78e4;\n",
       "            color:  #000000;\n",
       "            max-width:  10px;\n",
       "            font-size:  10pt;\n",
       "        }    #T_dbc6eb66_ecfd_11ea_9383_2c4d54283764row4_col6 {\n",
       "            background-color:  #5572df;\n",
       "            color:  #000000;\n",
       "            max-width:  10px;\n",
       "            font-size:  10pt;\n",
       "        }    #T_dbc6eb66_ecfd_11ea_9383_2c4d54283764row5_col0 {\n",
       "            background-color:  #5673e0;\n",
       "            color:  #000000;\n",
       "            max-width:  10px;\n",
       "            font-size:  10pt;\n",
       "        }    #T_dbc6eb66_ecfd_11ea_9383_2c4d54283764row5_col1 {\n",
       "            background-color:  #5977e3;\n",
       "            color:  #000000;\n",
       "            max-width:  10px;\n",
       "            font-size:  10pt;\n",
       "        }    #T_dbc6eb66_ecfd_11ea_9383_2c4d54283764row5_col2 {\n",
       "            background-color:  #5f7fe8;\n",
       "            color:  #000000;\n",
       "            max-width:  10px;\n",
       "            font-size:  10pt;\n",
       "        }    #T_dbc6eb66_ecfd_11ea_9383_2c4d54283764row5_col3 {\n",
       "            background-color:  #5f7fe8;\n",
       "            color:  #000000;\n",
       "            max-width:  10px;\n",
       "            font-size:  10pt;\n",
       "        }    #T_dbc6eb66_ecfd_11ea_9383_2c4d54283764row5_col4 {\n",
       "            background-color:  #5a78e4;\n",
       "            color:  #000000;\n",
       "            max-width:  10px;\n",
       "            font-size:  10pt;\n",
       "        }    #T_dbc6eb66_ecfd_11ea_9383_2c4d54283764row5_col5 {\n",
       "            background-color:  #b40426;\n",
       "            color:  #f1f1f1;\n",
       "            max-width:  10px;\n",
       "            font-size:  10pt;\n",
       "        }    #T_dbc6eb66_ecfd_11ea_9383_2c4d54283764row5_col6 {\n",
       "            background-color:  #3f53c6;\n",
       "            color:  #f1f1f1;\n",
       "            max-width:  10px;\n",
       "            font-size:  10pt;\n",
       "        }    #T_dbc6eb66_ecfd_11ea_9383_2c4d54283764row6_col0 {\n",
       "            background-color:  #f2cab5;\n",
       "            color:  #000000;\n",
       "            max-width:  10px;\n",
       "            font-size:  10pt;\n",
       "        }    #T_dbc6eb66_ecfd_11ea_9383_2c4d54283764row6_col1 {\n",
       "            background-color:  #6687ed;\n",
       "            color:  #000000;\n",
       "            max-width:  10px;\n",
       "            font-size:  10pt;\n",
       "        }    #T_dbc6eb66_ecfd_11ea_9383_2c4d54283764row6_col2 {\n",
       "            background-color:  #9ebeff;\n",
       "            color:  #000000;\n",
       "            max-width:  10px;\n",
       "            font-size:  10pt;\n",
       "        }    #T_dbc6eb66_ecfd_11ea_9383_2c4d54283764row6_col3 {\n",
       "            background-color:  #8caffe;\n",
       "            color:  #000000;\n",
       "            max-width:  10px;\n",
       "            font-size:  10pt;\n",
       "        }    #T_dbc6eb66_ecfd_11ea_9383_2c4d54283764row6_col4 {\n",
       "            background-color:  #5572df;\n",
       "            color:  #000000;\n",
       "            max-width:  10px;\n",
       "            font-size:  10pt;\n",
       "        }    #T_dbc6eb66_ecfd_11ea_9383_2c4d54283764row6_col5 {\n",
       "            background-color:  #3f53c6;\n",
       "            color:  #f1f1f1;\n",
       "            max-width:  10px;\n",
       "            font-size:  10pt;\n",
       "        }    #T_dbc6eb66_ecfd_11ea_9383_2c4d54283764row6_col6 {\n",
       "            background-color:  #b40426;\n",
       "            color:  #f1f1f1;\n",
       "            max-width:  10px;\n",
       "            font-size:  10pt;\n",
       "        }</style><table id=\"T_dbc6eb66_ecfd_11ea_9383_2c4d54283764\" ><thead>    <tr>        <th class=\"blank level0\" ></th>        <th class=\"col_heading level0 col0\" >Incisività offensiva</th>        <th class=\"col_heading level0 col1\" >Individualismo (palla in movimento)</th>        <th class=\"col_heading level0 col2\" >Capacità di finalizzazione</th>        <th class=\"col_heading level0 col3\" >Inefficacia del tiro</th>        <th class=\"col_heading level0 col4\" >Gioco offensivo con palla in movimento</th>        <th class=\"col_heading level0 col5\" >Altruismo</th>        <th class=\"col_heading level0 col6\" >shooting</th>    </tr></thead><tbody>\n",
       "                <tr>\n",
       "                        <th id=\"T_dbc6eb66_ecfd_11ea_9383_2c4d54283764level0_row0\" class=\"row_heading level0 row0\" >Incisività offensiva</th>\n",
       "                        <td id=\"T_dbc6eb66_ecfd_11ea_9383_2c4d54283764row0_col0\" class=\"data row0 col0\" >1</td>\n",
       "                        <td id=\"T_dbc6eb66_ecfd_11ea_9383_2c4d54283764row0_col1\" class=\"data row0 col1\" >-0.00079</td>\n",
       "                        <td id=\"T_dbc6eb66_ecfd_11ea_9383_2c4d54283764row0_col2\" class=\"data row0 col2\" >-0.014</td>\n",
       "                        <td id=\"T_dbc6eb66_ecfd_11ea_9383_2c4d54283764row0_col3\" class=\"data row0 col3\" >0.0085</td>\n",
       "                        <td id=\"T_dbc6eb66_ecfd_11ea_9383_2c4d54283764row0_col4\" class=\"data row0 col4\" >-0.0019</td>\n",
       "                        <td id=\"T_dbc6eb66_ecfd_11ea_9383_2c4d54283764row0_col5\" class=\"data row0 col5\" >0.00094</td>\n",
       "                        <td id=\"T_dbc6eb66_ecfd_11ea_9383_2c4d54283764row0_col6\" class=\"data row0 col6\" >0.56</td>\n",
       "            </tr>\n",
       "            <tr>\n",
       "                        <th id=\"T_dbc6eb66_ecfd_11ea_9383_2c4d54283764level0_row1\" class=\"row_heading level0 row1\" >Individualismo (palla in movimento)</th>\n",
       "                        <td id=\"T_dbc6eb66_ecfd_11ea_9383_2c4d54283764row1_col0\" class=\"data row1 col0\" >-0.00079</td>\n",
       "                        <td id=\"T_dbc6eb66_ecfd_11ea_9383_2c4d54283764row1_col1\" class=\"data row1 col1\" >1</td>\n",
       "                        <td id=\"T_dbc6eb66_ecfd_11ea_9383_2c4d54283764row1_col2\" class=\"data row1 col2\" >0.0072</td>\n",
       "                        <td id=\"T_dbc6eb66_ecfd_11ea_9383_2c4d54283764row1_col3\" class=\"data row1 col3\" >0.0017</td>\n",
       "                        <td id=\"T_dbc6eb66_ecfd_11ea_9383_2c4d54283764row1_col4\" class=\"data row1 col4\" >-0.00034</td>\n",
       "                        <td id=\"T_dbc6eb66_ecfd_11ea_9383_2c4d54283764row1_col5\" class=\"data row1 col5\" >0.012</td>\n",
       "                        <td id=\"T_dbc6eb66_ecfd_11ea_9383_2c4d54283764row1_col6\" class=\"data row1 col6\" >0.054</td>\n",
       "            </tr>\n",
       "            <tr>\n",
       "                        <th id=\"T_dbc6eb66_ecfd_11ea_9383_2c4d54283764level0_row2\" class=\"row_heading level0 row2\" >Capacità di finalizzazione</th>\n",
       "                        <td id=\"T_dbc6eb66_ecfd_11ea_9383_2c4d54283764row2_col0\" class=\"data row2 col0\" >-0.014</td>\n",
       "                        <td id=\"T_dbc6eb66_ecfd_11ea_9383_2c4d54283764row2_col1\" class=\"data row2 col1\" >0.0072</td>\n",
       "                        <td id=\"T_dbc6eb66_ecfd_11ea_9383_2c4d54283764row2_col2\" class=\"data row2 col2\" >1</td>\n",
       "                        <td id=\"T_dbc6eb66_ecfd_11ea_9383_2c4d54283764row2_col3\" class=\"data row2 col3\" >-0.098</td>\n",
       "                        <td id=\"T_dbc6eb66_ecfd_11ea_9383_2c4d54283764row2_col4\" class=\"data row2 col4\" >-0.034</td>\n",
       "                        <td id=\"T_dbc6eb66_ecfd_11ea_9383_2c4d54283764row2_col5\" class=\"data row2 col5\" >0.035</td>\n",
       "                        <td id=\"T_dbc6eb66_ecfd_11ea_9383_2c4d54283764row2_col6\" class=\"data row2 col6\" >0.23</td>\n",
       "            </tr>\n",
       "            <tr>\n",
       "                        <th id=\"T_dbc6eb66_ecfd_11ea_9383_2c4d54283764level0_row3\" class=\"row_heading level0 row3\" >Inefficacia del tiro</th>\n",
       "                        <td id=\"T_dbc6eb66_ecfd_11ea_9383_2c4d54283764row3_col0\" class=\"data row3 col0\" >0.0085</td>\n",
       "                        <td id=\"T_dbc6eb66_ecfd_11ea_9383_2c4d54283764row3_col1\" class=\"data row3 col1\" >0.0017</td>\n",
       "                        <td id=\"T_dbc6eb66_ecfd_11ea_9383_2c4d54283764row3_col2\" class=\"data row3 col2\" >-0.098</td>\n",
       "                        <td id=\"T_dbc6eb66_ecfd_11ea_9383_2c4d54283764row3_col3\" class=\"data row3 col3\" >1</td>\n",
       "                        <td id=\"T_dbc6eb66_ecfd_11ea_9383_2c4d54283764row3_col4\" class=\"data row3 col4\" >-0.022</td>\n",
       "                        <td id=\"T_dbc6eb66_ecfd_11ea_9383_2c4d54283764row3_col5\" class=\"data row3 col5\" >0.034</td>\n",
       "                        <td id=\"T_dbc6eb66_ecfd_11ea_9383_2c4d54283764row3_col6\" class=\"data row3 col6\" >0.17</td>\n",
       "            </tr>\n",
       "            <tr>\n",
       "                        <th id=\"T_dbc6eb66_ecfd_11ea_9383_2c4d54283764level0_row4\" class=\"row_heading level0 row4\" >Gioco offensivo con palla in movimento</th>\n",
       "                        <td id=\"T_dbc6eb66_ecfd_11ea_9383_2c4d54283764row4_col0\" class=\"data row4 col0\" >-0.0019</td>\n",
       "                        <td id=\"T_dbc6eb66_ecfd_11ea_9383_2c4d54283764row4_col1\" class=\"data row4 col1\" >-0.00034</td>\n",
       "                        <td id=\"T_dbc6eb66_ecfd_11ea_9383_2c4d54283764row4_col2\" class=\"data row4 col2\" >-0.034</td>\n",
       "                        <td id=\"T_dbc6eb66_ecfd_11ea_9383_2c4d54283764row4_col3\" class=\"data row4 col3\" >-0.022</td>\n",
       "                        <td id=\"T_dbc6eb66_ecfd_11ea_9383_2c4d54283764row4_col4\" class=\"data row4 col4\" >1</td>\n",
       "                        <td id=\"T_dbc6eb66_ecfd_11ea_9383_2c4d54283764row4_col5\" class=\"data row4 col5\" >0.014</td>\n",
       "                        <td id=\"T_dbc6eb66_ecfd_11ea_9383_2c4d54283764row4_col6\" class=\"data row4 col6\" >-0.0023</td>\n",
       "            </tr>\n",
       "            <tr>\n",
       "                        <th id=\"T_dbc6eb66_ecfd_11ea_9383_2c4d54283764level0_row5\" class=\"row_heading level0 row5\" >Altruismo</th>\n",
       "                        <td id=\"T_dbc6eb66_ecfd_11ea_9383_2c4d54283764row5_col0\" class=\"data row5 col0\" >0.00094</td>\n",
       "                        <td id=\"T_dbc6eb66_ecfd_11ea_9383_2c4d54283764row5_col1\" class=\"data row5 col1\" >0.012</td>\n",
       "                        <td id=\"T_dbc6eb66_ecfd_11ea_9383_2c4d54283764row5_col2\" class=\"data row5 col2\" >0.035</td>\n",
       "                        <td id=\"T_dbc6eb66_ecfd_11ea_9383_2c4d54283764row5_col3\" class=\"data row5 col3\" >0.034</td>\n",
       "                        <td id=\"T_dbc6eb66_ecfd_11ea_9383_2c4d54283764row5_col4\" class=\"data row5 col4\" >0.014</td>\n",
       "                        <td id=\"T_dbc6eb66_ecfd_11ea_9383_2c4d54283764row5_col5\" class=\"data row5 col5\" >1</td>\n",
       "                        <td id=\"T_dbc6eb66_ecfd_11ea_9383_2c4d54283764row5_col6\" class=\"data row5 col6\" >-0.08</td>\n",
       "            </tr>\n",
       "            <tr>\n",
       "                        <th id=\"T_dbc6eb66_ecfd_11ea_9383_2c4d54283764level0_row6\" class=\"row_heading level0 row6\" >shooting</th>\n",
       "                        <td id=\"T_dbc6eb66_ecfd_11ea_9383_2c4d54283764row6_col0\" class=\"data row6 col0\" >0.56</td>\n",
       "                        <td id=\"T_dbc6eb66_ecfd_11ea_9383_2c4d54283764row6_col1\" class=\"data row6 col1\" >0.054</td>\n",
       "                        <td id=\"T_dbc6eb66_ecfd_11ea_9383_2c4d54283764row6_col2\" class=\"data row6 col2\" >0.23</td>\n",
       "                        <td id=\"T_dbc6eb66_ecfd_11ea_9383_2c4d54283764row6_col3\" class=\"data row6 col3\" >0.17</td>\n",
       "                        <td id=\"T_dbc6eb66_ecfd_11ea_9383_2c4d54283764row6_col4\" class=\"data row6 col4\" >-0.0023</td>\n",
       "                        <td id=\"T_dbc6eb66_ecfd_11ea_9383_2c4d54283764row6_col5\" class=\"data row6 col5\" >-0.08</td>\n",
       "                        <td id=\"T_dbc6eb66_ecfd_11ea_9383_2c4d54283764row6_col6\" class=\"data row6 col6\" >1</td>\n",
       "            </tr>\n",
       "    </tbody></table>"
      ],
      "text/plain": [
       "<pandas.io.formats.style.Styler at 0x210bc1aa408>"
      ]
     },
     "execution_count": 7,
     "metadata": {},
     "output_type": "execute_result"
    }
   ],
   "source": [
    "import matplotlib.pyplot as plt\n",
    "\n",
    "#https://stackoverflow.com/questions/29432629/plot-correlation-matrix-using-pandas\n",
    "corr_df.style.background_gradient(cmap='coolwarm', axis=None)\\\n",
    "    .set_properties(**{'max-width': '10px', 'font-size': '10pt'})\\\n",
    "    .set_precision(2)"
   ]
  },
  {
   "cell_type": "markdown",
   "metadata": {},
   "source": [
    "### LINEAR REGRESSION MODELS"
   ]
  },
  {
   "cell_type": "markdown",
   "metadata": {},
   "source": [
    "#### SIMPLE LINEAR REGRESSION"
   ]
  },
  {
   "cell_type": "code",
   "execution_count": 8,
   "metadata": {},
   "outputs": [
    {
     "name": "stdout",
     "output_type": "stream",
     "text": [
      "Coefficients: \n",
      " [2.28949756]\n",
      "Intercept: \n",
      " 57.938573991820064\n",
      "Score: \n",
      " 0.3166162148717111\n"
     ]
    }
   ],
   "source": [
    "#simple regression model\n",
    "#using the most correlated feature: Incisività offensiva 0.56\n",
    "from sklearn.linear_model import LinearRegression\n",
    "\n",
    "xs = df.loc[:, 'Incisività offensiva'].values\n",
    "xs = xs.reshape(-1, 1)\n",
    "ys = df.loc[:, 'shooting'].values\n",
    "simple_reg = LinearRegression().fit(xs, ys)\n",
    "# The coefficients\n",
    "print('Coefficients: \\n', simple_reg.coef_)\n",
    "# The intercept\n",
    "print('Intercept: \\n', simple_reg.intercept_)\n",
    "# The score\n",
    "print('Score: \\n', simple_reg.score(xs, ys))\n",
    "#print(simple_reg.score(xs, ys), 1 - (1-simple_reg.score(xs, ys))*(len(ys)-1)/(len(ys)-xs.shape[1]-1))"
   ]
  },
  {
   "cell_type": "code",
   "execution_count": 9,
   "metadata": {},
   "outputs": [
    {
     "data": {
      "text/plain": [
       "<function matplotlib.pyplot.show(*args, **kw)>"
      ]
     },
     "execution_count": 9,
     "metadata": {},
     "output_type": "execute_result"
    },
    {
     "data": {
      "image/png": "[encoded data removed]",
      "text/plain": [
       "<Figure size 432x288 with 1 Axes>"
      ]
     },
     "metadata": {
      "needs_background": "light"
     },
     "output_type": "display_data"
    }
   ],
   "source": [
    "#plot\n",
    "import matplotlib.pyplot as plt\n",
    "\n",
    "plt.scatter(xs,ys)\n",
    "plt.xlabel('Incisività offensiva')\n",
    "plt.ylabel('shooting')\n",
    "lr_x = np.linspace(-5,25,100)\n",
    "lr_y = 2.29*lr_x + 57.94\n",
    "plt.plot(lr_x, lr_y, '-r')\n",
    "\n",
    "plt.show"
   ]
  },
  {
   "cell_type": "markdown",
   "metadata": {},
   "source": [
    "#### MULTIPLE LINEAR REGRESSION"
   ]
  },
  {
   "cell_type": "code",
   "execution_count": 10,
   "metadata": {},
   "outputs": [
    {
     "name": "stdout",
     "output_type": "stream",
     "text": [
      "Coefficients: \n",
      " [ 2.29790719  0.43561066  2.86222349  2.13689135  0.1631244  -1.35798634]\n",
      "Intercept: \n",
      " 58.05258419038316\n",
      "Score: \n",
      " 0.4225030352528129\n"
     ]
    }
   ],
   "source": [
    "#multiple regression model including all features\n",
    "from sklearn.linear_model import LinearRegression\n",
    "\n",
    "reg = LinearRegression().fit(x, y)\n",
    "# The coefficients\n",
    "print('Coefficients: \\n', reg.coef_)\n",
    "# The intercept\n",
    "print('Intercept: \\n', reg.intercept_)\n",
    "# The score\n",
    "print('Score: \\n', reg.score(x, y))"
   ]
  },
  {
   "cell_type": "code",
   "execution_count": 11,
   "metadata": {},
   "outputs": [
    {
     "name": "stdout",
     "output_type": "stream",
     "text": [
      "R^2: 0.423,\n",
      "R^2_adj: 0.420\n"
     ]
    }
   ],
   "source": [
    "# SST = SSR + SSE\n",
    "#https://stackoverflow.com/questions/42033720/python-sklearn-multiple-linear-regression-display-r-squared\n",
    "\n",
    "model = LinearRegression()\n",
    "model.fit(x,y)\n",
    "\n",
    "# compute with formulas from the theory\n",
    "yhat = model.predict(x)\n",
    "SS_Residual = sum((y-yhat)**2)       \n",
    "SS_Total = sum((y-np.mean(y))**2)     \n",
    "r_squared = 1 - (float(SS_Residual))/SS_Total\n",
    "adjusted_r_squared = 1 - (1-r_squared)*(len(y)-1)/(len(y)-x.shape[1]-1)\n",
    "print(f\"R^2: {r_squared:.3f},\\nR^2_adj: {adjusted_r_squared:.3f}\")\n",
    "\n",
    "# compute with sklearn linear_model, although could not find any function to compute adjusted-r-square directly from documentation\n",
    "#print(model.score(x, y), 1 - (1-model.score(x, y))*(len(y)-1)/(len(y)-x.shape[1]-1))"
   ]
  },
  {
   "cell_type": "code",
   "execution_count": 12,
   "metadata": {},
   "outputs": [
    {
     "name": "stdout",
     "output_type": "stream",
     "text": [
      "coef_pval:\n",
      " [0.00000000e+00 0.00000000e+00 6.19384143e-03 0.00000000e+00\n",
      " 0.00000000e+00 4.87709120e-01 5.98452737e-07]\n",
      "\n",
      "=========== SUMMARY ===========\n",
      "Residuals:\n",
      "     Min       1Q   Median       3Q       Max\n",
      " 42.7101  50.5875  55.3502  63.1431  114.5596\n",
      "\n",
      "\n",
      "Coefficients:\n",
      "                                         Estimate  Std. Error   t value   p value\n",
      "_intercept                              58.052584    0.297756  194.9670  0.000000\n",
      "Incisività offensiva                     2.297907    0.078919   29.1173  0.000000\n",
      "Individualismo (palla in movimento)      0.435611    0.158916    2.7411  0.006194\n",
      "Capacità di finalizzazione               2.862223    0.213754   13.3903  0.000000\n",
      "Inefficacia del tiro                     2.136891    0.211484   10.1043  0.000000\n",
      "Gioco offensivo con palla in movimento   0.163124    0.235007    0.6941  0.487709\n",
      "Altruismo                               -1.357986    0.270900   -5.0129  0.000001\n",
      "---\n",
      "R-squared:  0.42250,    Adjusted R-squared:  0.42024\n",
      "F-statistic: 186.32 on 6 features\n"
     ]
    }
   ],
   "source": [
    "#https://stackoverflow.com/questions/44495667/calculate-p-value-in-sklearn-using-python\n",
    "#pip install regressors\n",
    "from regressors import stats\n",
    "\n",
    "#stats.adj_r2_score(reg, x, y)\n",
    "\n",
    "# To calculate the p-values of beta coefficients: \n",
    "print(\"coef_pval:\\n\", stats.coef_pval(reg, x, y))\n",
    "# to print summary table:\n",
    "print(\"\\n=========== SUMMARY ===========\")\n",
    "xlabels = features\n",
    "stats.summary(reg, x, y, xlabels)"
   ]
  },
  {
   "cell_type": "markdown",
   "metadata": {},
   "source": [
    "#### LASSO"
   ]
  },
  {
   "cell_type": "code",
   "execution_count": 13,
   "metadata": {},
   "outputs": [
    {
     "name": "stdout",
     "output_type": "stream",
     "text": [
      "Coefficients: \n",
      " [ 2.29067188  0.40687943  2.80070064  2.07734488  0.09593655 -1.26833343]\n",
      "Intercept: \n",
      " 58.04976685221703\n",
      "R^2: 0.422,\n",
      "R^2_adj: 0.420\n",
      "coef_pval:\n",
      " [0.00000000e+00 0.00000000e+00 1.05610214e-02 0.00000000e+00\n",
      " 0.00000000e+00 6.83197933e-01 3.10060022e-06]\n",
      "\n",
      "=========== SUMMARY ===========\n",
      "Residuals:\n",
      "     Min       1Q   Median       3Q       Max\n",
      " 42.8852  50.6404  55.3555  63.0447  112.9798\n",
      "\n",
      "\n",
      "Coefficients:\n",
      "                                         Estimate  Std. Error   t value   p value\n",
      "_intercept                              58.049767    0.297790  194.9350  0.000000\n",
      "Incisività offensiva                     2.290672    0.078928   29.0222  0.000000\n",
      "Individualismo (palla in movimento)      0.406879    0.158935    2.5600  0.010561\n",
      "Capacità di finalizzazione               2.800701    0.213779   13.1009  0.000000\n",
      "Inefficacia del tiro                     2.077345    0.211508    9.8216  0.000000\n",
      "Gioco offensivo con palla in movimento   0.095937    0.235034    0.4082  0.683198\n",
      "Altruismo                               -1.268333    0.270931   -4.6814  0.000003\n",
      "---\n",
      "R-squared:  0.42237,    Adjusted R-squared:  0.42010\n",
      "F-statistic: 186.22 on 6 features\n"
     ]
    }
   ],
   "source": [
    "from sklearn.linear_model import Lasso\n",
    "\n",
    "reg_lasso = Lasso(alpha=0.1)\n",
    "reg_lasso.fit(x,y)\n",
    "\n",
    "# The coefficients\n",
    "print('Coefficients: \\n', reg_lasso.coef_)\n",
    "# The intercept\n",
    "print('Intercept: \\n', reg_lasso.intercept_)\n",
    "#R^2\n",
    "print(f\"R^2: {reg_lasso.score(x, y):.3f},\\nR^2_adj: {1 - (1-reg_lasso.score(x, y))*(len(y)-1)/(len(y)-x.shape[1]-1):.3f}\")\n",
    "\n",
    "# To calculate the p-values of beta coefficients: \n",
    "print(\"coef_pval:\\n\", stats.coef_pval(reg_lasso, x, y))\n",
    "# to print summary table:\n",
    "print(\"\\n=========== SUMMARY ===========\")\n",
    "xlabels = features\n",
    "stats.summary(reg_lasso, x, y, xlabels)"
   ]
  },
  {
   "cell_type": "code",
   "execution_count": 14,
   "metadata": {},
   "outputs": [
    {
     "name": "stdout",
     "output_type": "stream",
     "text": [
      "0.4224952862450543\n",
      "0.024107556180509297\n"
     ]
    }
   ],
   "source": [
    "from sklearn.linear_model import LassoCV\n",
    "\n",
    "values = 10**np.linspace(0.5,-2,1000)*0.5\n",
    "\n",
    "reg_lasso_CV = LassoCV(cv=5, alphas=values).fit(x, y)\n",
    "print(reg_lasso_CV.score(x, y))\n",
    "print(reg_lasso_CV.alpha_)"
   ]
  },
  {
   "cell_type": "code",
   "execution_count": 15,
   "metadata": {},
   "outputs": [
    {
     "data": {
      "text/plain": [
       "<matplotlib.collections.PathCollection at 0x26142750888>"
      ]
     },
     "execution_count": 15,
     "metadata": {},
     "output_type": "execute_result"
    },
    {
     "data": {
      "image/png": "[encoded data removed]",
      "text/plain": [
       "<Figure size 720x432 with 1 Axes>"
      ]
     },
     "metadata": {
      "needs_background": "light"
     },
     "output_type": "display_data"
    }
   ],
   "source": [
    "test_mse = np.mean(reg_lasso_CV.mse_path_, axis=1)\n",
    "\n",
    "min_alpha = reg_lasso_CV.alpha_\n",
    "min_test_mse = np.min(test_mse)\n",
    "\n",
    "# Plotting\n",
    "fig = plt.figure(figsize=(10,6))\n",
    "fig.suptitle('test MSE vs. alpha value (5-fold CV)', fontsize=30)\n",
    "#plt.title()\n",
    "plt.xlabel('alpha', fontsize=20)\n",
    "plt.ylabel('test MSE', fontsize=20)\n",
    "#plt.hlines(y=0.815,xmin=0,xmax=5.0,colors='red',linestyles='dashed')\n",
    "plt.plot(reg_lasso_CV.alphas_, test_mse)\n",
    "plt.grid(True)\n",
    "plt.scatter(min_alpha, min_test_mse, s=100, c='green', marker='x')\n",
    "#plt.scatter(alpha_val, score_val)"
   ]
  },
  {
   "cell_type": "code",
   "execution_count": 16,
   "metadata": {},
   "outputs": [
    {
     "name": "stdout",
     "output_type": "stream",
     "text": [
      "(0.02800388287616057, array([0.41424206]))\n"
     ]
    },
    {
     "data": {
      "text/plain": [
       "<matplotlib.collections.PathCollection at 0x26141766848>"
      ]
     },
     "execution_count": 16,
     "metadata": {},
     "output_type": "execute_result"
    },
    {
     "data": {
      "image/png": "[encoded data removed]",
      "text/plain": [
       "<Figure size 720x432 with 1 Axes>"
      ]
     },
     "metadata": {
      "needs_background": "light"
     },
     "output_type": "display_data"
    }
   ],
   "source": [
    "#https://scikit-learn.org/stable/modules/cross_validation.html\n",
    "from sklearn.model_selection import cross_val_score\n",
    "\n",
    "values = 10**np.linspace(0.5,-2,1000)*0.5\n",
    "results = []\n",
    "for alpha in values:\n",
    "    #print(f'Alpha: {alpha}')\n",
    "    reg_lasso = Lasso(alpha=alpha)\n",
    "    scores = cross_val_score(reg_lasso, x, y, cv=5)\n",
    "    score = np.sum(scores)/scores.shape\n",
    "    results.append((alpha,score))\n",
    "\n",
    "\n",
    "sorted_by_score = sorted(results, key=lambda tup: tup[1])\n",
    "max_score = sorted_by_score[-1][1]\n",
    "max_alpha = sorted_by_score[-1][0]\n",
    "print(sorted_by_score[-1])\n",
    "\n",
    "\n",
    "alpha_val = [couple[0] for couple in results]\n",
    "score_val = [couple[1] for couple in results]\n",
    "\n",
    "# Plotting\n",
    "fig = plt.figure(figsize=(10,6))\n",
    "fig.suptitle('Score vs. alpha value (5-fold CV)', fontsize=30)\n",
    "#plt.title()\n",
    "plt.xlabel('alpha', fontsize=20)\n",
    "plt.ylabel('score', fontsize=20)\n",
    "#plt.hlines(y=0.815,xmin=0,xmax=5.0,colors='red',linestyles='dashed')\n",
    "plt.plot(alpha_val, score_val)\n",
    "plt.grid(True)\n",
    "plt.scatter(max_alpha, max_score, s=100, c='green', marker='x')\n",
    "#plt.scatter(alpha_val, score_val)"
   ]
  },
  {
   "cell_type": "code",
   "execution_count": 19,
   "metadata": {},
   "outputs": [
    {
     "name": "stdout",
     "output_type": "stream",
     "text": [
      "Coefficients: \n",
      " [ 2.29617007  0.42871594  2.84745456  2.12259947  0.14699908 -1.33646947]\n",
      "Intercept: \n",
      " 58.05190800144184\n",
      "R^2: 0.422,\n",
      "R^2_adj: 0.420\n",
      "coef_pval:\n",
      " [0.00000000e+00 0.00000000e+00 7.05792971e-03 0.00000000e+00\n",
      " 0.00000000e+00 5.31733187e-01 8.95947941e-07]\n",
      "\n",
      "=========== SUMMARY ===========\n",
      "Residuals:\n",
      "     Min       1Q  Median       3Q       Max\n",
      " 42.7521  50.6114  55.355  63.1031  114.1804\n",
      "\n",
      "\n",
      "Coefficients:\n",
      "                                         Estimate  Std. Error   t value   p value\n",
      "_intercept                              58.051908    0.297758  194.9634  0.000000\n",
      "Incisività offensiva                     2.296170    0.078920   29.0951  0.000000\n",
      "Individualismo (palla in movimento)      0.428716    0.158917    2.6977  0.007058\n",
      "Capacità di finalizzazione               2.847455    0.213756   13.3211  0.000000\n",
      "Inefficacia del tiro                     2.122599    0.211485   10.0366  0.000000\n",
      "Gioco offensivo con palla in movimento   0.146999    0.235009    0.6255  0.531733\n",
      "Altruismo                               -1.336469    0.270901   -4.9334  0.000001\n",
      "---\n",
      "R-squared:  0.42250,    Adjusted R-squared:  0.42023\n",
      "F-statistic: 186.31 on 6 features\n"
     ]
    }
   ],
   "source": [
    "from sklearn.linear_model import Lasso\n",
    "\n",
    "reg_lasso = Lasso(alpha=0.024)\n",
    "reg_lasso.fit(x,y)\n",
    "\n",
    "# The coefficients\n",
    "print('Coefficients: \\n', reg_lasso.coef_)\n",
    "# The intercept\n",
    "print('Intercept: \\n', reg_lasso.intercept_)\n",
    "#R^2\n",
    "print(f\"R^2: {reg_lasso.score(x, y):.3f},\\nR^2_adj: {1 - (1-reg_lasso.score(x, y))*(len(y)-1)/(len(y)-x.shape[1]-1):.3f}\")\n",
    "\n",
    "from regressors import stats\n",
    "\n",
    "# To calculate the p-values of beta coefficients: \n",
    "print(\"coef_pval:\\n\", stats.coef_pval(reg_lasso, x, y))\n",
    "# to print summary table:\n",
    "print(\"\\n=========== SUMMARY ===========\")\n",
    "xlabels = features\n",
    "stats.summary(reg_lasso, x, y, xlabels)"
   ]
  },
  {
   "cell_type": "code",
   "execution_count": 52,
   "metadata": {},
   "outputs": [
    {
     "name": "stdout",
     "output_type": "stream",
     "text": [
      "0.0018791955986346264\n",
      "alpha=0 :  136.67694439517751\n"
     ]
    },
    {
     "data": {
      "image/png": "[encoded data removed]",
      "text/plain": [
       "<Figure size 432x288 with 1 Axes>"
      ]
     },
     "metadata": {
      "needs_background": "light"
     },
     "output_type": "display_data"
    }
   ],
   "source": [
    "#http://www.science.smith.edu/~jcrouser/SDS293/labs/lab10-py.html\n",
    "#CV alternativa\n",
    "from sklearn.model_selection import train_test_split\n",
    "from sklearn.metrics import mean_squared_error\n",
    "from sklearn.linear_model import Lasso, LassoCV\n",
    "from sklearn.preprocessing import scale \n",
    "\n",
    "alphas = 10**np.linspace(10,-2,100)*0.5\n",
    "lasso = Lasso(max_iter = 10000, normalize = True)\n",
    "coefs = []\n",
    "\n",
    "for a in alphas:\n",
    "    lasso.set_params(alpha=a)\n",
    "    lasso.fit(scale(x), y)\n",
    "    coefs.append(lasso.coef_)\n",
    "    \n",
    "ax = plt.gca()\n",
    "ax.plot(alphas*2, coefs)\n",
    "ax.set_xscale('log')\n",
    "plt.axis('tight')\n",
    "plt.xlabel('alpha')\n",
    "plt.ylabel('weights')\n",
    "\n",
    "\n",
    "features = list(df.columns[4:10])\n",
    "# Separating out the features\n",
    "x = df.loc[:, features]\n",
    "y = df.loc[:, 'shooting']\n",
    "# Split data into training and test sets\n",
    "X_train, X_test , y_train, y_test = train_test_split(x, y, test_size=0.3, random_state=1)\n",
    "\n",
    "\n",
    "lassocv = LassoCV(alphas = None, cv = 10, max_iter = 100000, normalize = True)\n",
    "lassocv.fit(X_train, y_train)\n",
    "print(lassocv.alpha_)\n",
    "\n",
    "lasso.set_params(alpha=lassocv.alpha_)\n",
    "lasso.fit(X_train, y_train)\n",
    "print('alpha=0 : ', mean_squared_error(y_test, lasso.predict(X_test)))"
   ]
  },
  {
   "cell_type": "markdown",
   "metadata": {},
   "source": [
    "#### RIDGE"
   ]
  },
  {
   "cell_type": "code",
   "execution_count": 20,
   "metadata": {},
   "outputs": [
    {
     "name": "stdout",
     "output_type": "stream",
     "text": [
      "Coefficients: \n",
      " [ 2.29789635  0.43560268  2.86211708  2.13680913  0.16311068 -1.35790448]\n",
      "Intercept: \n",
      " 58.05258031119373\n",
      "R^2: 0.423,\n",
      "R^2_adj: 0.420\n",
      "coef_pval:\n",
      " [0.00000000e+00 0.00000000e+00 6.19478388e-03 0.00000000e+00\n",
      " 0.00000000e+00 4.87745733e-01 5.99378419e-07]\n",
      "\n",
      "=========== SUMMARY ===========\n",
      "Residuals:\n",
      "     Min       1Q   Median       3Q       Max\n",
      " 42.7106  50.5876  55.3501  63.1429  114.5574\n",
      "\n",
      "\n",
      "Coefficients:\n",
      "                                         Estimate  Std. Error   t value   p value\n",
      "_intercept                              58.052580    0.297756  194.9670  0.000000\n",
      "Incisività offensiva                     2.297896    0.078919   29.1171  0.000000\n",
      "Individualismo (palla in movimento)      0.435603    0.158916    2.7411  0.006195\n",
      "Capacità di finalizzazione               2.862117    0.213754   13.3898  0.000000\n",
      "Inefficacia del tiro                     2.136809    0.211484   10.1039  0.000000\n",
      "Gioco offensivo con palla in movimento   0.163111    0.235007    0.6941  0.487746\n",
      "Altruismo                               -1.357904    0.270900   -5.0126  0.000001\n",
      "---\n",
      "R-squared:  0.42250,    Adjusted R-squared:  0.42024\n",
      "F-statistic: 186.32 on 6 features\n"
     ]
    }
   ],
   "source": [
    "from sklearn.linear_model import Ridge\n",
    "\n",
    "reg_ridge = Ridge(alpha=0.1)\n",
    "reg_ridge.fit(x,y)\n",
    "\n",
    "# The coefficients\n",
    "print('Coefficients: \\n', reg_ridge.coef_)\n",
    "# The intercept\n",
    "print('Intercept: \\n', reg_ridge.intercept_)\n",
    "#R^2\n",
    "print(f\"R^2: {reg_ridge.score(x, y):.3f},\\nR^2_adj: {1 - (1-reg_ridge.score(x, y))*(len(y)-1)/(len(y)-x.shape[1]-1):.3f}\")\n",
    "\n",
    "# To calculate the p-values of beta coefficients: \n",
    "print(\"coef_pval:\\n\", stats.coef_pval(reg_ridge, x, y))\n",
    "# to print summary table:\n",
    "print(\"\\n=========== SUMMARY ===========\")\n",
    "xlabels = features\n",
    "stats.summary(reg_ridge, x, y, xlabels)"
   ]
  },
  {
   "cell_type": "code",
   "execution_count": 21,
   "metadata": {},
   "outputs": [
    {
     "name": "stdout",
     "output_type": "stream",
     "text": [
      "0.42242956611409943\n",
      "67.1\n"
     ]
    }
   ],
   "source": [
    "from sklearn.linear_model import RidgeCV\n",
    "\n",
    "alphas=np.arange(0.1,200.0)\n",
    "\n",
    "reg_ridge_CV = RidgeCV(alphas=alphas,cv=5).fit(x, y)\n",
    "print(reg_ridge_CV.score(x, y))\n",
    "print(reg_ridge_CV.alpha_)"
   ]
  },
  {
   "cell_type": "code",
   "execution_count": 22,
   "metadata": {},
   "outputs": [
    {
     "name": "stdout",
     "output_type": "stream",
     "text": [
      "(67.1, array([0.41434859]))\n"
     ]
    },
    {
     "data": {
      "text/plain": [
       "<matplotlib.collections.PathCollection at 0x261427a1948>"
      ]
     },
     "execution_count": 22,
     "metadata": {},
     "output_type": "execute_result"
    },
    {
     "data": {
      "image/png": "[encoded data removed]",
      "text/plain": [
       "<Figure size 720x432 with 1 Axes>"
      ]
     },
     "metadata": {
      "needs_background": "light"
     },
     "output_type": "display_data"
    }
   ],
   "source": [
    "values = np.arange(0.1,200.0)\n",
    "results = []\n",
    "for alpha in values:\n",
    "    #print(f'Alpha: {alpha}')\n",
    "    reg_ridge = Ridge(alpha=alpha)\n",
    "    scores = cross_val_score(reg_ridge, x, y, cv=5)\n",
    "    score = np.sum(scores)/scores.shape\n",
    "    results.append((alpha,score))\n",
    "#print(results)\n",
    "sorted_by_score = sorted(results, key=lambda tup: tup[1])\n",
    "max_score = sorted_by_score[-1][1]\n",
    "max_alpha = sorted_by_score[-1][0]\n",
    "print(sorted_by_score[-1])\n",
    "\n",
    "alpha_val = [couple[0] for couple in results]\n",
    "score_val = [couple[1] for couple in results]\n",
    "\n",
    "# Plotting\n",
    "fig = plt.figure(figsize=(10,6))\n",
    "fig.suptitle('Score vs. alpha value (5-fold CV)', fontsize=30)\n",
    "#plt.title()\n",
    "plt.xlabel('alpha', fontsize=20)\n",
    "plt.ylabel('score', fontsize=20)\n",
    "#plt.hlines(y=0.815,xmin=0,xmax=5.0,colors='red',linestyles='dashed')\n",
    "plt.plot(alpha_val, score_val)\n",
    "plt.grid(True)\n",
    "plt.scatter(max_alpha, max_score, s=100, c='green', marker='x')\n",
    "#plt.scatter(alpha_val, score_val)"
   ]
  },
  {
   "cell_type": "code",
   "execution_count": 23,
   "metadata": {},
   "outputs": [
    {
     "name": "stdout",
     "output_type": "stream",
     "text": [
      "Coefficients: \n",
      " [ 2.2906713   0.4303299   2.79268514  2.08321276  0.15429397 -1.30518856]\n",
      "Intercept: \n",
      " 58.05006439976967\n",
      "R^2: 0.422,\n",
      "R^2_adj: 0.420\n",
      "coef_pval:\n",
      " [0.00000000e+00 0.00000000e+00 6.84971729e-03 0.00000000e+00\n",
      " 0.00000000e+00 5.11595842e-01 1.59605287e-06]\n",
      "\n",
      "=========== SUMMARY ===========\n",
      "Residuals:\n",
      "     Min       1Q   Median       3Q       Max\n",
      " 43.0209  50.6613  55.3655  63.0358  113.1232\n",
      "\n",
      "\n",
      "Coefficients:\n",
      "                                         Estimate  Std. Error   t value   p value\n",
      "_intercept                              58.050064    0.297775  194.9462  0.000000\n",
      "Incisività offensiva                     2.290671    0.078924   29.0237  0.000000\n",
      "Individualismo (palla in movimento)      0.430330    0.158926    2.7077  0.006850\n",
      "Capacità di finalizzazione               2.792685    0.213768   13.0641  0.000000\n",
      "Inefficacia del tiro                     2.083213    0.211497    9.8498  0.000000\n",
      "Gioco offensivo con palla in movimento   0.154294    0.235022    0.6565  0.511596\n",
      "Altruismo                               -1.305189    0.270917   -4.8177  0.000002\n",
      "---\n",
      "R-squared:  0.42243,    Adjusted R-squared:  0.42016\n",
      "F-statistic: 186.26 on 6 features\n"
     ]
    }
   ],
   "source": [
    "from sklearn.linear_model import Ridge\n",
    "\n",
    "reg_ridge = Ridge(alpha=67)\n",
    "reg_ridge.fit(x,y)\n",
    "\n",
    "# The coefficients\n",
    "print('Coefficients: \\n', reg_ridge.coef_)\n",
    "# The intercept\n",
    "print('Intercept: \\n', reg_ridge.intercept_)\n",
    "#R^2\n",
    "print(f\"R^2: {reg_ridge.score(x, y):.3f},\\nR^2_adj: {1 - (1-reg_ridge.score(x, y))*(len(y)-1)/(len(y)-x.shape[1]-1):.3f}\")\n",
    "\n",
    "# To calculate the p-values of beta coefficients: \n",
    "print(\"coef_pval:\\n\", stats.coef_pval(reg_ridge, x, y))\n",
    "# to print summary table:\n",
    "print(\"\\n=========== SUMMARY ===========\")\n",
    "xlabels = features\n",
    "stats.summary(reg_ridge, x, y, xlabels)"
   ]
  },
  {
   "cell_type": "code",
   "execution_count": 57,
   "metadata": {},
   "outputs": [
    {
     "data": {
      "image/png": "[encoded data removed]",
      "text/plain": [
       "<Figure size 432x288 with 1 Axes>"
      ]
     },
     "metadata": {
      "needs_background": "light"
     },
     "output_type": "display_data"
    },
    {
     "name": "stdout",
     "output_type": "stream",
     "text": [
      "Incisività offensiva                      2.323968\n",
      "Individualismo (palla in movimento)       0.364727\n",
      "Capacità di finalizzazione                3.127715\n",
      "Inefficacia del tiro                      2.238483\n",
      "Gioco offensivo con palla in movimento    0.335672\n",
      "Altruismo                                -1.266797\n",
      "dtype: float64\n",
      "136.89689185859922\n",
      "0.026683496156031508\n",
      "136.47862055219983\n"
     ]
    },
    {
     "data": {
      "text/plain": [
       "Incisività offensiva                      2.237943\n",
       "Individualismo (palla in movimento)       0.424437\n",
       "Capacità di finalizzazione                2.778254\n",
       "Inefficacia del tiro                      2.073480\n",
       "Gioco offensivo con palla in movimento    0.153430\n",
       "Altruismo                                -1.315797\n",
       "dtype: float64"
      ]
     },
     "execution_count": 57,
     "metadata": {},
     "output_type": "execute_result"
    }
   ],
   "source": [
    "#http://www.science.smith.edu/~jcrouser/SDS293/labs/lab10-py.html\n",
    "#CV alternativa\n",
    "from sklearn.model_selection import train_test_split\n",
    "from sklearn.metrics import mean_squared_error\n",
    "from sklearn.linear_model import Ridge, RidgeCV\n",
    "\n",
    "\n",
    "alphas = 10**np.linspace(10,-2,100)*0.5\n",
    "ridge = Ridge(normalize = True)\n",
    "coefs = []\n",
    "\n",
    "for a in alphas:\n",
    "    ridge.set_params(alpha = a)\n",
    "    ridge.fit(x, y)\n",
    "    coefs.append(ridge.coef_)\n",
    "    \n",
    "ax = plt.gca()\n",
    "ax.plot(alphas, coefs)\n",
    "ax.set_xscale('log')\n",
    "plt.axis('tight')\n",
    "plt.xlabel('alpha')\n",
    "plt.ylabel('weights')\n",
    "plt.show()\n",
    "\n",
    "\n",
    "features = list(df.columns[4:10])\n",
    "# Separating out the features\n",
    "x = df.loc[:, features]\n",
    "y = df.loc[:, 'shooting']\n",
    "# Split data into training and test sets\n",
    "X_train, X_test , y_train, y_test = train_test_split(x, y, test_size=0.3, random_state=1)\n",
    "\n",
    "ridge2 = Ridge(alpha = 0, normalize = True)\n",
    "ridge2.fit(X_train, y_train)             # Fit a ridge regression on the training data\n",
    "pred = ridge2.predict(X_test)            # Use this model to predict the test data\n",
    "print(pd.Series(ridge2.coef_, index = x.columns)) # Print coefficients\n",
    "print(mean_squared_error(y_test, pred))           # Calculate the test MSE\n",
    "\n",
    "ridgecv = RidgeCV(alphas = alphas, normalize = True, cv=10) #scoring = 'neg_mean_squared_error',\n",
    "ridgecv.fit(X_train, y_train)\n",
    "print(ridgecv.alpha_)\n",
    "ridge4 = Ridge(alpha = ridgecv.alpha_, normalize = True)\n",
    "ridge4.fit(X_train, y_train)\n",
    "print(mean_squared_error(y_test, ridge4.predict(X_test)))\n",
    "ridge4.fit(x, y)\n",
    "pd.Series(ridge4.coef_, index = x.columns)"
   ]
  },
  {
   "cell_type": "code",
   "execution_count": 58,
   "metadata": {},
   "outputs": [
    {
     "data": {
      "text/plain": [
       "0.40234267887378244"
      ]
     },
     "execution_count": 58,
     "metadata": {},
     "output_type": "execute_result"
    }
   ],
   "source": [
    "ridge4.score(X_test,y_test)"
   ]
  },
  {
   "cell_type": "markdown",
   "metadata": {},
   "source": [
    "### POLYNOMIAL FIT"
   ]
  },
  {
   "cell_type": "code",
   "execution_count": 24,
   "metadata": {},
   "outputs": [
    {
     "name": "stdout",
     "output_type": "stream",
     "text": [
      "R^2: 0.551,\n",
      "R^2_adj: 0.525\n"
     ]
    }
   ],
   "source": [
    "from sklearn.preprocessing import PolynomialFeatures \n",
    "  \n",
    "poly = PolynomialFeatures(degree = 3) \n",
    "x_poly = poly.fit_transform(x) \n",
    "  \n",
    "poly.fit(x_poly, y) \n",
    "lin2 = LinearRegression() \n",
    "lin2.fit(x_poly, y) \n",
    "\n",
    "# The coefficients\n",
    "#print('Coefficients: \\n', lin2.coef_)\n",
    "# The intercept\n",
    "#print('Intercept: \\n', lin2.intercept_)\n",
    "# The score\n",
    "#print('Score: \\n', lin2.score(x_poly, y))\n",
    "print(f\"R^2: {lin2.score(x_poly, y):.3f},\\nR^2_adj: {1 - (1-lin2.score(x_poly, y))*(len(y)-1)/(len(y)-x_poly.shape[1]-1):.3f}\")"
   ]
  },
  {
   "cell_type": "code",
   "execution_count": 25,
   "metadata": {},
   "outputs": [
    {
     "name": "stdout",
     "output_type": "stream",
     "text": [
      "R^2: 0.459,\n",
      "R^2_adj: 0.456\n"
     ]
    }
   ],
   "source": [
    "tmp = df.iloc[:,4:10]\n",
    "columns = []\n",
    "for i in range(tmp.shape[1]):\n",
    "    columns.append(f'x_{i}')\n",
    "actual_columns = list(tmp.columns)\n",
    "dictionary = {}\n",
    "for i in range(tmp.shape[1]):\n",
    "    dictionary[actual_columns[i]] = columns[i]\n",
    "tmp = tmp.rename(columns=dictionary)\n",
    "tmp['x_0^2'] = tmp.x_0**2\n",
    "tmp['x_0^3'] = tmp.x_0**3\n",
    "\n",
    "x_poly = tmp.loc[:,:].values\n",
    "lin3 = LinearRegression() \n",
    "lin3.fit(x_poly, y) \n",
    "\n",
    "# The coefficients\n",
    "#print('Coefficients: \\n', lin3.coef_)\n",
    "# The intercept\n",
    "#print('Intercept: \\n', lin3.intercept_)\n",
    "# The score\n",
    "#print('Score: \\n', lin3.score(x_poly, y))\n",
    "print(f\"R^2: {lin3.score(x_poly, y):.3f},\\nR^2_adj: {1 - (1-lin3.score(x_poly, y))*(len(y)-1)/(len(y)-x_poly.shape[1]-1):.3f}\")"
   ]
  },
  {
   "cell_type": "markdown",
   "metadata": {},
   "source": [
    "### GENERALIZED ADDITIVE MODELS"
   ]
  },
  {
   "cell_type": "code",
   "execution_count": 27,
   "metadata": {},
   "outputs": [
    {
     "name": "stderr",
     "output_type": "stream",
     "text": [
      "C:\\Users\\Admin\\Anaconda3\\lib\\site-packages\\ipykernel_launcher.py:9: UserWarning: KNOWN BUG: p-values computed in this summary are likely much smaller than they should be. \n",
      " \n",
      "Please do not make inferences based on these values! \n",
      "\n",
      "Collaborate on a solution, and stay up to date at: \n",
      "github.com/dswah/pyGAM/issues/163 \n",
      "\n",
      "  if __name__ == '__main__':\n",
      "  6% (6 of 100) |#                       | Elapsed Time: 0:00:00 ETA:  00:00:00"
     ]
    },
    {
     "name": "stdout",
     "output_type": "stream",
     "text": [
      "LinearGAM                                                                                                 \n",
      "=============================================== ==========================================================\n",
      "Distribution:                        NormalDist Effective DoF:                                      58.492\n",
      "Link Function:                     IdentityLink Log Likelihood:                                 -8658.9592\n",
      "Number of Samples:                         1535 AIC:                                            17436.9024\n",
      "                                                AICc:                                           17441.7837\n",
      "                                                GCV:                                              120.1302\n",
      "                                                Scale:                                            111.9195\n",
      "                                                Pseudo R-Squared:                                   0.5427\n",
      "==========================================================================================================\n",
      "Feature Function                  Lambda               Rank         EDoF         P > x        Sig. Code   \n",
      "================================= ==================== ============ ============ ============ ============\n",
      "s(0)                              [0.6]                20           13.8         1.11e-16     ***         \n",
      "s(1)                              [0.6]                20           11.4         7.15e-01                 \n",
      "s(2)                              [0.6]                20           10.4         1.11e-16     ***         \n",
      "s(3)                              [0.6]                20           8.6          1.11e-16     ***         \n",
      "s(4)                              [0.6]                20           9.0          7.60e-01                 \n",
      "s(5)                              [0.6]                20           5.2          1.26e-01                 \n",
      "intercept                                              1            0.0          1.11e-16     ***         \n",
      "==========================================================================================================\n",
      "Significance codes:  0 '***' 0.001 '**' 0.01 '*' 0.05 '.' 0.1 ' ' 1\n",
      "\n",
      "WARNING: Fitting splines and a linear function to a feature introduces a model identifiability problem\n",
      "         which can cause p-values to appear significant when they are not.\n",
      "\n",
      "WARNING: p-values calculated in this manner behave correctly for un-penalized models or models with\n",
      "         known smoothing parameters, but when smoothing parameters have been estimated, the p-values\n",
      "         are typically lower than they should be, meaning that the tests reject the null too readily.\n"
     ]
    },
    {
     "name": "stderr",
     "output_type": "stream",
     "text": [
      "100% (100 of 100) |######################| Elapsed Time: 0:00:26 Time:  0:00:26\n"
     ]
    },
    {
     "name": "stdout",
     "output_type": "stream",
     "text": [
      "LinearGAM                                                                                                 \n",
      "=============================================== ==========================================================\n",
      "Distribution:                        NormalDist Effective DoF:                                     29.3013\n",
      "Link Function:                     IdentityLink Log Likelihood:                                 -8700.0043\n",
      "Number of Samples:                         1535 AIC:                                            17460.6111\n",
      "                                                AICc:                                           17461.8726\n",
      "                                                GCV:                                              119.0392\n",
      "                                                Scale:                                            114.9561\n",
      "                                                Pseudo R-Squared:                                   0.5211\n",
      "==========================================================================================================\n",
      "Feature Function                  Lambda               Rank         EDoF         P > x        Sig. Code   \n",
      "================================= ==================== ============ ============ ============ ============\n",
      "s(0)                              [0.6]                10           7.3          1.11e-16     ***         \n",
      "s(1)                              [0.6]                10           5.3          2.24e-01                 \n",
      "s(2)                              [0.6]                10           5.3          1.11e-16     ***         \n",
      "s(3)                              [0.6]                10           4.3          1.11e-16     ***         \n",
      "s(4)                              [0.6]                10           4.5          2.46e-01                 \n",
      "s(5)                              [0.6]                10           2.6          4.09e-01                 \n",
      "intercept                                              1            0.0          1.11e-16     ***         \n",
      "==========================================================================================================\n",
      "Significance codes:  0 '***' 0.001 '**' 0.01 '*' 0.05 '.' 0.1 ' ' 1\n",
      "\n",
      "WARNING: Fitting splines and a linear function to a feature introduces a model identifiability problem\n",
      "         which can cause p-values to appear significant when they are not.\n",
      "\n",
      "WARNING: p-values calculated in this manner behave correctly for un-penalized models or models with\n",
      "         known smoothing parameters, but when smoothing parameters have been estimated, the p-values\n",
      "         are typically lower than they should be, meaning that the tests reject the null too readily.\n"
     ]
    },
    {
     "name": "stderr",
     "output_type": "stream",
     "text": [
      "C:\\Users\\Admin\\Anaconda3\\lib\\site-packages\\ipykernel_launcher.py:12: UserWarning: KNOWN BUG: p-values computed in this summary are likely much smaller than they should be. \n",
      " \n",
      "Please do not make inferences based on these values! \n",
      "\n",
      "Collaborate on a solution, and stay up to date at: \n",
      "github.com/dswah/pyGAM/issues/163 \n",
      "\n",
      "  if sys.path[0] == '':\n"
     ]
    }
   ],
   "source": [
    "#https://stackoverflow.com/questions/45879954/generalised-additive-model-python\n",
    "#pip install pyGAM\n",
    "from pygam import LinearGAM\n",
    "\n",
    "#lam = np.logspace(-3, 3, 5)\n",
    "#lams = [lam] * 13\n",
    "\n",
    "gam1 = LinearGAM(spline_order=3).fit(x, y)\n",
    "gam1.summary()\n",
    "#gam1.gridsearch(x, y, lam=lams)\n",
    "gam1.gridsearch(x, y, n_splines=np.arange(100))\n",
    "gam1.summary()"
   ]
  },
  {
   "cell_type": "markdown",
   "metadata": {},
   "source": [
    "# DEFENSE"
   ]
  },
  {
   "cell_type": "code",
   "execution_count": 28,
   "metadata": {},
   "outputs": [],
   "source": [
    "shape = df.shape\n",
    "features = list(df.columns[10:12])\n",
    "\n",
    "# Separating out the features\n",
    "x = df.loc[:, features].values\n",
    "y = df.loc[:, 'defending'].values"
   ]
  },
  {
   "cell_type": "code",
   "execution_count": 29,
   "metadata": {},
   "outputs": [
    {
     "data": {
      "text/plain": [
       "['Supremazia atletica / giocate aggressive',\n",
       " 'Pressing efficace in zona difensiva']"
      ]
     },
     "execution_count": 29,
     "metadata": {},
     "output_type": "execute_result"
    }
   ],
   "source": [
    "features"
   ]
  },
  {
   "cell_type": "code",
   "execution_count": 30,
   "metadata": {},
   "outputs": [
    {
     "data": {
      "text/plain": [
       "Supremazia atletica / giocate aggressive    0.332297\n",
       "Pressing efficace in zona difensiva         0.100632\n",
       "defending                                   1.000000\n",
       "Name: defending, dtype: float64"
      ]
     },
     "execution_count": 30,
     "metadata": {},
     "output_type": "execute_result"
    }
   ],
   "source": [
    "#CORRELAZIONE CON DEFENDING\n",
    "corr_df = df.iloc[:,10:12]\n",
    "corr_df['defending'] = df.defending \n",
    "corr_df = corr_df.corr()\n",
    "corr_df.iloc[:,-1]"
   ]
  },
  {
   "cell_type": "code",
   "execution_count": 31,
   "metadata": {},
   "outputs": [
    {
     "data": {
      "text/html": [
       "<style  type=\"text/css\" >\n",
       "    #T_d30de700_ec78_11ea_b6ae_2c4d54283764row0_col0 {\n",
       "            background-color:  #b40426;\n",
       "            color:  #f1f1f1;\n",
       "            max-width:  10px;\n",
       "            font-size:  10pt;\n",
       "        }    #T_d30de700_ec78_11ea_b6ae_2c4d54283764row0_col1 {\n",
       "            background-color:  #3b4cc0;\n",
       "            color:  #f1f1f1;\n",
       "            max-width:  10px;\n",
       "            font-size:  10pt;\n",
       "        }    #T_d30de700_ec78_11ea_b6ae_2c4d54283764row0_col2 {\n",
       "            background-color:  #abc8fd;\n",
       "            color:  #000000;\n",
       "            max-width:  10px;\n",
       "            font-size:  10pt;\n",
       "        }    #T_d30de700_ec78_11ea_b6ae_2c4d54283764row1_col0 {\n",
       "            background-color:  #3b4cc0;\n",
       "            color:  #f1f1f1;\n",
       "            max-width:  10px;\n",
       "            font-size:  10pt;\n",
       "        }    #T_d30de700_ec78_11ea_b6ae_2c4d54283764row1_col1 {\n",
       "            background-color:  #b40426;\n",
       "            color:  #f1f1f1;\n",
       "            max-width:  10px;\n",
       "            font-size:  10pt;\n",
       "        }    #T_d30de700_ec78_11ea_b6ae_2c4d54283764row1_col2 {\n",
       "            background-color:  #5b7ae5;\n",
       "            color:  #000000;\n",
       "            max-width:  10px;\n",
       "            font-size:  10pt;\n",
       "        }    #T_d30de700_ec78_11ea_b6ae_2c4d54283764row2_col0 {\n",
       "            background-color:  #abc8fd;\n",
       "            color:  #000000;\n",
       "            max-width:  10px;\n",
       "            font-size:  10pt;\n",
       "        }    #T_d30de700_ec78_11ea_b6ae_2c4d54283764row2_col1 {\n",
       "            background-color:  #5b7ae5;\n",
       "            color:  #000000;\n",
       "            max-width:  10px;\n",
       "            font-size:  10pt;\n",
       "        }    #T_d30de700_ec78_11ea_b6ae_2c4d54283764row2_col2 {\n",
       "            background-color:  #b40426;\n",
       "            color:  #f1f1f1;\n",
       "            max-width:  10px;\n",
       "            font-size:  10pt;\n",
       "        }</style><table id=\"T_d30de700_ec78_11ea_b6ae_2c4d54283764\" ><thead>    <tr>        <th class=\"blank level0\" ></th>        <th class=\"col_heading level0 col0\" >Supremazia atletica / giocate aggressive</th>        <th class=\"col_heading level0 col1\" >Pressing efficace in zona difensiva</th>        <th class=\"col_heading level0 col2\" >defending</th>    </tr></thead><tbody>\n",
       "                <tr>\n",
       "                        <th id=\"T_d30de700_ec78_11ea_b6ae_2c4d54283764level0_row0\" class=\"row_heading level0 row0\" >Supremazia atletica / giocate aggressive</th>\n",
       "                        <td id=\"T_d30de700_ec78_11ea_b6ae_2c4d54283764row0_col0\" class=\"data row0 col0\" >1</td>\n",
       "                        <td id=\"T_d30de700_ec78_11ea_b6ae_2c4d54283764row0_col1\" class=\"data row0 col1\" >-0.009</td>\n",
       "                        <td id=\"T_d30de700_ec78_11ea_b6ae_2c4d54283764row0_col2\" class=\"data row0 col2\" >0.33</td>\n",
       "            </tr>\n",
       "            <tr>\n",
       "                        <th id=\"T_d30de700_ec78_11ea_b6ae_2c4d54283764level0_row1\" class=\"row_heading level0 row1\" >Pressing efficace in zona difensiva</th>\n",
       "                        <td id=\"T_d30de700_ec78_11ea_b6ae_2c4d54283764row1_col0\" class=\"data row1 col0\" >-0.009</td>\n",
       "                        <td id=\"T_d30de700_ec78_11ea_b6ae_2c4d54283764row1_col1\" class=\"data row1 col1\" >1</td>\n",
       "                        <td id=\"T_d30de700_ec78_11ea_b6ae_2c4d54283764row1_col2\" class=\"data row1 col2\" >0.1</td>\n",
       "            </tr>\n",
       "            <tr>\n",
       "                        <th id=\"T_d30de700_ec78_11ea_b6ae_2c4d54283764level0_row2\" class=\"row_heading level0 row2\" >defending</th>\n",
       "                        <td id=\"T_d30de700_ec78_11ea_b6ae_2c4d54283764row2_col0\" class=\"data row2 col0\" >0.33</td>\n",
       "                        <td id=\"T_d30de700_ec78_11ea_b6ae_2c4d54283764row2_col1\" class=\"data row2 col1\" >0.1</td>\n",
       "                        <td id=\"T_d30de700_ec78_11ea_b6ae_2c4d54283764row2_col2\" class=\"data row2 col2\" >1</td>\n",
       "            </tr>\n",
       "    </tbody></table>"
      ],
      "text/plain": [
       "<pandas.io.formats.style.Styler at 0x26145c3a208>"
      ]
     },
     "execution_count": 31,
     "metadata": {},
     "output_type": "execute_result"
    }
   ],
   "source": [
    "import matplotlib.pyplot as plt\n",
    "\n",
    "#https://stackoverflow.com/questions/29432629/plot-correlation-matrix-using-pandas\n",
    "corr_df.style.background_gradient(cmap='coolwarm', axis=None)\\\n",
    "    .set_properties(**{'max-width': '10px', 'font-size': '10pt'})\\\n",
    "    .set_precision(2)"
   ]
  },
  {
   "cell_type": "markdown",
   "metadata": {},
   "source": [
    "### LINEAR REGRESSION MODELS"
   ]
  },
  {
   "cell_type": "markdown",
   "metadata": {},
   "source": [
    "#### MULTIPLE LINEAR REGRESSION"
   ]
  },
  {
   "cell_type": "code",
   "execution_count": 32,
   "metadata": {},
   "outputs": [
    {
     "name": "stdout",
     "output_type": "stream",
     "text": [
      "Coefficients: \n",
      " [1.86111842 0.67316331]\n",
      "Intercept: \n",
      " 58.17095420798939\n",
      "Score: \n",
      " 0.12116094377004072\n",
      "R^2: 0.121,\n",
      "R^2_adj: 0.120\n",
      "coef_pval:\n",
      " [0.00000000e+00 0.00000000e+00 1.57996073e-05]\n",
      "\n",
      "=========== SUMMARY ===========\n",
      "Residuals:\n",
      "     Min       1Q   Median       3Q      Max\n",
      " 49.4569  52.8277  57.0711  62.8163  81.7236\n",
      "\n",
      "\n",
      "Coefficients:\n",
      "                                           Estimate  Std. Error   t value   p value\n",
      "_intercept                                58.170954    0.452411  128.5798  0.000000\n",
      "Supremazia atletica / giocate aggressive   1.861118    0.133615   13.9290  0.000000\n",
      "Pressing efficace in zona difensiva        0.673163    0.155426    4.3311  0.000016\n",
      "---\n",
      "R-squared:  0.12116,    Adjusted R-squared:  0.12001\n",
      "F-statistic: 105.60 on 2 features\n"
     ]
    }
   ],
   "source": [
    "#multiple regression model including all features\n",
    "from sklearn.linear_model import LinearRegression\n",
    "\n",
    "reg = LinearRegression().fit(x, y)\n",
    "# The coefficients\n",
    "print('Coefficients: \\n', reg.coef_)\n",
    "# The intercept\n",
    "print('Intercept: \\n', reg.intercept_)\n",
    "# The score\n",
    "print('Score: \\n', reg.score(x, y))\n",
    "\n",
    "# SST = SSR + SSE\n",
    "#https://stackoverflow.com/questions/42033720/python-sklearn-multiple-linear-regression-display-r-squared\n",
    "model = LinearRegression()\n",
    "model.fit(x,y)\n",
    "# compute with formulas from the theory\n",
    "yhat = model.predict(x)\n",
    "SS_Residual = sum((y-yhat)**2)       \n",
    "SS_Total = sum((y-np.mean(y))**2)     \n",
    "r_squared = 1 - (float(SS_Residual))/SS_Total\n",
    "adjusted_r_squared = 1 - (1-r_squared)*(len(y)-1)/(len(y)-x.shape[1]-1)\n",
    "print(f\"R^2: {r_squared:.3f},\\nR^2_adj: {adjusted_r_squared:.3f}\")\n",
    "\n",
    "#https://stackoverflow.com/questions/44495667/calculate-p-value-in-sklearn-using-python\n",
    "#pip install regressors\n",
    "from regressors import stats\n",
    "\n",
    "# To calculate the p-values of beta coefficients: \n",
    "print(\"coef_pval:\\n\", stats.coef_pval(reg, x, y))\n",
    "# to print summary table:\n",
    "print(\"\\n=========== SUMMARY ===========\")\n",
    "xlabels = features\n",
    "stats.summary(reg, x, y, xlabels)"
   ]
  },
  {
   "cell_type": "markdown",
   "metadata": {},
   "source": [
    "#### LASSO"
   ]
  },
  {
   "cell_type": "code",
   "execution_count": 33,
   "metadata": {},
   "outputs": [
    {
     "name": "stdout",
     "output_type": "stream",
     "text": [
      "Coefficients: \n",
      " [1.85229488 0.6612609 ]\n",
      "Intercept: \n",
      " 58.17191087877006\n",
      "R^2: 0.121,\n",
      "R^2_adj: 0.120\n",
      "coef_pval:\n",
      " [0.00000000e+00 0.00000000e+00 2.22192825e-05]\n",
      "\n",
      "=========== SUMMARY ===========\n",
      "Residuals:\n",
      "     Min       1Q   Median      3Q      Max\n",
      " 49.5061  52.8538  57.0807  62.789  81.5405\n",
      "\n",
      "\n",
      "Coefficients:\n",
      "                                           Estimate  Std. Error   t value   p value\n",
      "_intercept                                58.171911    0.452413  128.5815  0.000000\n",
      "Supremazia atletica / giocate aggressive   1.852295    0.133615   13.8629  0.000000\n",
      "Pressing efficace in zona difensiva        0.661261    0.155426    4.2545  0.000022\n",
      "---\n",
      "R-squared:  0.12116,    Adjusted R-squared:  0.12001\n",
      "F-statistic: 105.60 on 2 features\n"
     ]
    }
   ],
   "source": [
    "from sklearn.linear_model import Lasso\n",
    "\n",
    "reg_lasso = Lasso(alpha=0.1)\n",
    "reg_lasso.fit(x,y)\n",
    "\n",
    "# The coefficients\n",
    "print('Coefficients: \\n', reg_lasso.coef_)\n",
    "# The intercept\n",
    "print('Intercept: \\n', reg_lasso.intercept_)\n",
    "#R^2\n",
    "print(f\"R^2: {reg_lasso.score(x, y):.3f},\\nR^2_adj: {1 - (1-reg_lasso.score(x, y))*(len(y)-1)/(len(y)-x.shape[1]-1):.3f}\")\n",
    "\n",
    "# To calculate the p-values of beta coefficients: \n",
    "print(\"coef_pval:\\n\", stats.coef_pval(reg_lasso, x, y))\n",
    "# to print summary table:\n",
    "print(\"\\n=========== SUMMARY ===========\")\n",
    "xlabels = features\n",
    "stats.summary(reg_lasso, x, y, xlabels)"
   ]
  },
  {
   "cell_type": "code",
   "execution_count": 34,
   "metadata": {},
   "outputs": [
    {
     "name": "stdout",
     "output_type": "stream",
     "text": [
      "0.12109331270302572\n",
      "0.34143209170136346\n"
     ]
    }
   ],
   "source": [
    "from sklearn.linear_model import LassoCV\n",
    "\n",
    "values = 10**np.linspace(0.5,-2,1000)*0.5\n",
    "\n",
    "reg_lasso_CV = LassoCV(cv=5, alphas=values).fit(x, y)\n",
    "print(reg_lasso_CV.score(x, y))\n",
    "print(reg_lasso_CV.alpha_)"
   ]
  },
  {
   "cell_type": "code",
   "execution_count": 35,
   "metadata": {},
   "outputs": [
    {
     "data": {
      "text/plain": [
       "<matplotlib.collections.PathCollection at 0x26145c69f08>"
      ]
     },
     "execution_count": 35,
     "metadata": {},
     "output_type": "execute_result"
    },
    {
     "data": {
      "image/png": "[encoded data removed]",
      "text/plain": [
       "<Figure size 720x432 with 1 Axes>"
      ]
     },
     "metadata": {
      "needs_background": "light"
     },
     "output_type": "display_data"
    }
   ],
   "source": [
    "test_mse = np.mean(reg_lasso_CV.mse_path_, axis=1)\n",
    "\n",
    "min_alpha = reg_lasso_CV.alpha_\n",
    "min_test_mse = np.min(test_mse)\n",
    "\n",
    "# Plotting\n",
    "fig = plt.figure(figsize=(10,6))\n",
    "fig.suptitle('test MSE vs. alpha value (5-fold CV)', fontsize=30)\n",
    "#plt.title()\n",
    "plt.xlabel('alpha', fontsize=20)\n",
    "plt.ylabel('test MSE', fontsize=20)\n",
    "#plt.hlines(y=0.815,xmin=0,xmax=5.0,colors='red',linestyles='dashed')\n",
    "plt.plot(reg_lasso_CV.alphas_, test_mse)\n",
    "plt.grid(True)\n",
    "plt.scatter(min_alpha, min_test_mse, s=100, c='green', marker='x')\n",
    "#plt.scatter(alpha_val, score_val)"
   ]
  },
  {
   "cell_type": "code",
   "execution_count": 36,
   "metadata": {},
   "outputs": [
    {
     "name": "stdout",
     "output_type": "stream",
     "text": [
      "(0.07087370814634024, array([0.11556729]))\n"
     ]
    },
    {
     "data": {
      "text/plain": [
       "<matplotlib.collections.PathCollection at 0x26145caa048>"
      ]
     },
     "execution_count": 36,
     "metadata": {},
     "output_type": "execute_result"
    },
    {
     "data": {
      "image/png": "[encoded data removed]",
      "text/plain": [
       "<Figure size 720x432 with 1 Axes>"
      ]
     },
     "metadata": {
      "needs_background": "light"
     },
     "output_type": "display_data"
    }
   ],
   "source": [
    "#https://scikit-learn.org/stable/modules/cross_validation.html\n",
    "from sklearn.model_selection import cross_val_score\n",
    "\n",
    "values = 10**np.linspace(1,-2,100)*0.5\n",
    "results = []\n",
    "for alpha in values:\n",
    "    #print(f'Alpha: {alpha}')\n",
    "    reg_lasso = Lasso(alpha=alpha)\n",
    "    scores = cross_val_score(reg_lasso, x, y, cv=5)\n",
    "    score = np.sum(scores)/scores.shape\n",
    "    results.append((alpha,score))\n",
    "\n",
    "\n",
    "sorted_by_score = sorted(results, key=lambda tup: tup[1])\n",
    "max_score = sorted_by_score[-1][1]\n",
    "max_alpha = sorted_by_score[-1][0]\n",
    "print(sorted_by_score[-1])\n",
    "\n",
    "\n",
    "alpha_val = [couple[0] for couple in results]\n",
    "score_val = [couple[1] for couple in results]\n",
    "\n",
    "# Plotting\n",
    "fig = plt.figure(figsize=(10,6))\n",
    "fig.suptitle('Score vs. alpha value (5-fold CV)', fontsize=30)\n",
    "#plt.title()\n",
    "plt.xlabel('alpha', fontsize=20)\n",
    "plt.ylabel('score', fontsize=20)\n",
    "#plt.hlines(y=0.815,xmin=0,xmax=5.0,colors='red',linestyles='dashed')\n",
    "plt.plot(alpha_val, score_val)\n",
    "plt.grid(True)\n",
    "plt.scatter(max_alpha, max_score, s=100, c='green', marker='x')\n",
    "#plt.scatter(alpha_val, score_val)"
   ]
  },
  {
   "cell_type": "code",
   "execution_count": 41,
   "metadata": {},
   "outputs": [
    {
     "name": "stdout",
     "output_type": "stream",
     "text": [
      "Coefficients: \n",
      " [1.83111839 0.63269511]\n",
      "Intercept: \n",
      " 58.174206888636434\n",
      "R^2: 0.121,\n",
      "R^2_adj: 0.120\n",
      "coef_pval:\n",
      " [0.0000000e+00 0.0000000e+00 4.9288192e-05]\n",
      "\n",
      "=========== SUMMARY ===========\n",
      "Residuals:\n",
      "     Min       1Q   Median       3Q      Max\n",
      " 49.6241  52.9166  57.1046  62.7451  81.1011\n",
      "\n",
      "\n",
      "Coefficients:\n",
      "                                           Estimate  Std. Error   t value   p value\n",
      "_intercept                                58.174207    0.452429  128.5821  0.000000\n",
      "Supremazia atletica / giocate aggressive   1.831118    0.133620   13.7039  0.000000\n",
      "Pressing efficace in zona difensiva        0.632695    0.155432    4.0706  0.000049\n",
      "---\n",
      "R-squared:  0.12109,    Adjusted R-squared:  0.11995\n",
      "F-statistic: 105.54 on 2 features\n"
     ]
    }
   ],
   "source": [
    "from sklearn.linear_model import Lasso\n",
    "\n",
    "reg_lasso = Lasso(alpha=0.34)\n",
    "reg_lasso.fit(x,y)\n",
    "\n",
    "# The coefficients\n",
    "print('Coefficients: \\n', reg_lasso.coef_)\n",
    "# The intercept\n",
    "print('Intercept: \\n', reg_lasso.intercept_)\n",
    "#R^2\n",
    "print(f\"R^2: {reg_lasso.score(x, y):.3f},\\nR^2_adj: {1 - (1-reg_lasso.score(x, y))*(len(y)-1)/(len(y)-x.shape[1]-1):.3f}\")\n",
    "\n",
    "# To calculate the p-values of beta coefficients: \n",
    "print(\"coef_pval:\\n\", stats.coef_pval(reg_lasso, x, y))\n",
    "# to print summary table:\n",
    "print(\"\\n=========== SUMMARY ===========\")\n",
    "xlabels = features\n",
    "stats.summary(reg_lasso, x, y, xlabels)"
   ]
  },
  {
   "cell_type": "markdown",
   "metadata": {},
   "source": [
    "#### RIDGE"
   ]
  },
  {
   "cell_type": "code",
   "execution_count": 37,
   "metadata": {},
   "outputs": [
    {
     "name": "stdout",
     "output_type": "stream",
     "text": [
      "Coefficients: \n",
      " [1.86110779 0.67315802]\n",
      "Intercept: \n",
      " 58.17095522181432\n",
      "R^2: 0.121,\n",
      "R^2_adj: 0.120\n",
      "coef_pval:\n",
      " [0.00000000e+00 0.00000000e+00 1.58020206e-05]\n",
      "\n",
      "=========== SUMMARY ===========\n",
      "Residuals:\n",
      "     Min       1Q   Median       3Q      Max\n",
      " 49.4569  52.8277  57.0711  62.8162  81.7234\n",
      "\n",
      "\n",
      "Coefficients:\n",
      "                                           Estimate  Std. Error   t value   p value\n",
      "_intercept                                58.170955    0.452411  128.5798  0.000000\n",
      "Supremazia atletica / giocate aggressive   1.861108    0.133615   13.9289  0.000000\n",
      "Pressing efficace in zona difensiva        0.673158    0.155426    4.3311  0.000016\n",
      "---\n",
      "R-squared:  0.12116,    Adjusted R-squared:  0.12001\n",
      "F-statistic: 105.60 on 2 features\n"
     ]
    }
   ],
   "source": [
    "from sklearn.linear_model import Ridge\n",
    "\n",
    "reg_ridge = Ridge(alpha=0.1)\n",
    "reg_ridge.fit(x,y)\n",
    "\n",
    "# The coefficients\n",
    "print('Coefficients: \\n', reg_ridge.coef_)\n",
    "# The intercept\n",
    "print('Intercept: \\n', reg_ridge.intercept_)\n",
    "#R^2\n",
    "print(f\"R^2: {reg_ridge.score(x, y):.3f},\\nR^2_adj: {1 - (1-reg_ridge.score(x, y))*(len(y)-1)/(len(y)-x.shape[1]-1):.3f}\")\n",
    "\n",
    "# To calculate the p-values of beta coefficients: \n",
    "print(\"coef_pval:\\n\", stats.coef_pval(reg_ridge, x, y))\n",
    "# to print summary table:\n",
    "print(\"\\n=========== SUMMARY ===========\")\n",
    "xlabels = features\n",
    "stats.summary(reg_ridge, x, y, xlabels)"
   ]
  },
  {
   "cell_type": "code",
   "execution_count": 42,
   "metadata": {},
   "outputs": [
    {
     "name": "stdout",
     "output_type": "stream",
     "text": [
      "0.12115272932350786\n",
      "140.1\n"
     ]
    }
   ],
   "source": [
    "from sklearn.linear_model import RidgeCV\n",
    "\n",
    "alphas=np.arange(0.1,200.0)\n",
    "\n",
    "reg_ridge_CV = RidgeCV(alphas=alphas,cv=5).fit(x, y)\n",
    "print(reg_ridge_CV.score(x, y))\n",
    "print(reg_ridge_CV.alpha_)"
   ]
  },
  {
   "cell_type": "code",
   "execution_count": 38,
   "metadata": {},
   "outputs": [
    {
     "name": "stdout",
     "output_type": "stream",
     "text": [
      "(140, array([0.11557883]))\n"
     ]
    },
    {
     "data": {
      "text/plain": [
       "<matplotlib.collections.PathCollection at 0x26141f47208>"
      ]
     },
     "execution_count": 38,
     "metadata": {},
     "output_type": "execute_result"
    },
    {
     "data": {
      "image/png": "[encoded data removed]",
      "text/plain": [
       "<Figure size 720x432 with 1 Axes>"
      ]
     },
     "metadata": {
      "needs_background": "light"
     },
     "output_type": "display_data"
    }
   ],
   "source": [
    "values = np.arange(0,1000)\n",
    "results = []\n",
    "for alpha in values:\n",
    "    #print(f'Alpha: {alpha}')\n",
    "    reg_ridge = Ridge(alpha=alpha)\n",
    "    scores = cross_val_score(reg_ridge, x, y, cv=5)\n",
    "    score = np.sum(scores)/scores.shape\n",
    "    results.append((alpha,score))\n",
    "#print(results)\n",
    "sorted_by_score = sorted(results, key=lambda tup: tup[1])\n",
    "max_score = sorted_by_score[-1][1]\n",
    "max_alpha = sorted_by_score[-1][0]\n",
    "print(sorted_by_score[-1])\n",
    "\n",
    "alpha_val = [couple[0] for couple in results]\n",
    "score_val = [couple[1] for couple in results]\n",
    "\n",
    "# Plotting\n",
    "fig = plt.figure(figsize=(10,6))\n",
    "fig.suptitle('Score vs. alpha value (5-fold CV)', fontsize=30)\n",
    "#plt.title()\n",
    "plt.xlabel('alpha', fontsize=20)\n",
    "plt.ylabel('score', fontsize=20)\n",
    "#plt.hlines(y=0.815,xmin=0,xmax=5.0,colors='red',linestyles='dashed')\n",
    "plt.plot(alpha_val, score_val)\n",
    "plt.grid(True)\n",
    "plt.scatter(max_alpha, max_score, s=100, c='green', marker='x')\n",
    "#plt.scatter(alpha_val, score_val)"
   ]
  },
  {
   "cell_type": "code",
   "execution_count": 39,
   "metadata": {},
   "outputs": [
    {
     "data": {
      "image/png": "[encoded data removed]",
      "text/plain": [
       "<Figure size 432x288 with 1 Axes>"
      ]
     },
     "metadata": {
      "needs_background": "light"
     },
     "output_type": "display_data"
    },
    {
     "name": "stdout",
     "output_type": "stream",
     "text": [
      "Supremazia atletica / giocate aggressive    1.770456\n",
      "Pressing efficace in zona difensiva         0.696249\n",
      "dtype: float64\n",
      "312.90967828513425\n",
      "0.018824679033962337\n",
      "313.13108108154427\n"
     ]
    },
    {
     "data": {
      "text/plain": [
       "Supremazia atletica / giocate aggressive    1.826634\n",
       "Pressing efficace in zona difensiva         0.660371\n",
       "dtype: float64"
      ]
     },
     "execution_count": 39,
     "metadata": {},
     "output_type": "execute_result"
    }
   ],
   "source": [
    "#http://www.science.smith.edu/~jcrouser/SDS293/labs/lab10-py.html\n",
    "#CV alternativa\n",
    "from sklearn.model_selection import train_test_split\n",
    "from sklearn.metrics import mean_squared_error\n",
    "from sklearn.linear_model import Ridge, RidgeCV\n",
    "\n",
    "\n",
    "alphas = 10**np.linspace(1,-2,100)*0.5\n",
    "ridge = Ridge(normalize = True)\n",
    "coefs = []\n",
    "\n",
    "for a in alphas:\n",
    "    ridge.set_params(alpha = a)\n",
    "    ridge.fit(x, y)\n",
    "    coefs.append(ridge.coef_)\n",
    "    \n",
    "ax = plt.gca()\n",
    "ax.plot(alphas, coefs)\n",
    "ax.set_xscale('log')\n",
    "plt.axis('tight')\n",
    "plt.xlabel('alpha')\n",
    "plt.ylabel('weights')\n",
    "plt.show()\n",
    "\n",
    "\n",
    "features = list(df.columns[10:12])\n",
    "# Separating out the features\n",
    "x = df.loc[:, features]\n",
    "y = df.loc[:, 'defending']\n",
    "# Split data into training and test sets\n",
    "X_train, X_test , y_train, y_test = train_test_split(x, y, test_size=0.3, random_state=1)\n",
    "\n",
    "ridge2 = Ridge(alpha = 0, normalize = True)\n",
    "ridge2.fit(X_train, y_train)             # Fit a ridge regression on the training data\n",
    "pred = ridge2.predict(X_test)            # Use this model to predict the test data\n",
    "print(pd.Series(ridge2.coef_, index = x.columns)) # Print coefficients\n",
    "print(mean_squared_error(y_test, pred))           # Calculate the test MSE\n",
    "\n",
    "ridgecv = RidgeCV(alphas = alphas, normalize = True, cv=10) #scoring = 'neg_mean_squared_error',\n",
    "ridgecv.fit(X_train, y_train)\n",
    "print(ridgecv.alpha_)\n",
    "ridge4 = Ridge(alpha = ridgecv.alpha_, normalize = True)\n",
    "ridge4.fit(X_train, y_train)\n",
    "print(mean_squared_error(y_test, ridge4.predict(X_test)))\n",
    "ridge4.fit(x, y)\n",
    "pd.Series(ridge4.coef_, index = x.columns)"
   ]
  },
  {
   "cell_type": "markdown",
   "metadata": {},
   "source": [
    "### POLYNOMIAL FIT"
   ]
  },
  {
   "cell_type": "code",
   "execution_count": 40,
   "metadata": {},
   "outputs": [
    {
     "name": "stdout",
     "output_type": "stream",
     "text": [
      "R^2: 0.136,\n",
      "R^2_adj: 0.130\n"
     ]
    }
   ],
   "source": [
    "from sklearn.preprocessing import PolynomialFeatures \n",
    "  \n",
    "poly = PolynomialFeatures(degree = 3) \n",
    "x_poly = poly.fit_transform(x) \n",
    "  \n",
    "poly.fit(x_poly, y) \n",
    "lin2 = LinearRegression() \n",
    "lin2.fit(x_poly, y) \n",
    "\n",
    "# The coefficients\n",
    "#print('Coefficients: \\n', lin2.coef_)\n",
    "# The intercept\n",
    "#print('Intercept: \\n', lin2.intercept_)\n",
    "# The score\n",
    "#print('Score: \\n', lin2.score(x_poly, y))\n",
    "print(f\"R^2: {lin2.score(x_poly, y):.3f},\\nR^2_adj: {1 - (1-lin2.score(x_poly, y))*(len(y)-1)/(len(y)-x_poly.shape[1]-1):.3f}\")"
   ]
  },
  {
   "cell_type": "markdown",
   "metadata": {},
   "source": [
    "### GENERALIZED ADDITIVE MODELS"
   ]
  },
  {
   "cell_type": "code",
   "execution_count": 43,
   "metadata": {},
   "outputs": [
    {
     "name": "stderr",
     "output_type": "stream",
     "text": [
      "C:\\Users\\Admin\\Anaconda3\\lib\\site-packages\\ipykernel_launcher.py:9: UserWarning: KNOWN BUG: p-values computed in this summary are likely much smaller than they should be. \n",
      " \n",
      "Please do not make inferences based on these values! \n",
      "\n",
      "Collaborate on a solution, and stay up to date at: \n",
      "github.com/dswah/pyGAM/issues/163 \n",
      "\n",
      "  if __name__ == '__main__':\n",
      "  9% (9 of 100) |##                      | Elapsed Time: 0:00:00 ETA:   0:00:01"
     ]
    },
    {
     "name": "stdout",
     "output_type": "stream",
     "text": [
      "LinearGAM                                                                                                 \n",
      "=============================================== ==========================================================\n",
      "Distribution:                        NormalDist Effective DoF:                                     25.3278\n",
      "Link Function:                     IdentityLink Log Likelihood:                                -10210.8505\n",
      "Number of Samples:                         1535 AIC:                                            20474.3566\n",
      "                                                AICc:                                            20475.311\n",
      "                                                GCV:                                              317.8538\n",
      "                                                Scale:                                            308.4276\n",
      "                                                Pseudo R-Squared:                                   0.1509\n",
      "==========================================================================================================\n",
      "Feature Function                  Lambda               Rank         EDoF         P > x        Sig. Code   \n",
      "================================= ==================== ============ ============ ============ ============\n",
      "s(0)                              [0.6]                20           13.4         1.61e-06     ***         \n",
      "s(1)                              [0.6]                20           11.9         2.35e-03     **          \n",
      "intercept                                              1            0.0          1.11e-16     ***         \n",
      "==========================================================================================================\n",
      "Significance codes:  0 '***' 0.001 '**' 0.01 '*' 0.05 '.' 0.1 ' ' 1\n",
      "\n",
      "WARNING: Fitting splines and a linear function to a feature introduces a model identifiability problem\n",
      "         which can cause p-values to appear significant when they are not.\n",
      "\n",
      "WARNING: p-values calculated in this manner behave correctly for un-penalized models or models with\n",
      "         known smoothing parameters, but when smoothing parameters have been estimated, the p-values\n",
      "         are typically lower than they should be, meaning that the tests reject the null too readily.\n"
     ]
    },
    {
     "name": "stderr",
     "output_type": "stream",
     "text": [
      "100% (100 of 100) |######################| Elapsed Time: 0:00:05 Time:  0:00:05\n"
     ]
    },
    {
     "name": "stdout",
     "output_type": "stream",
     "text": [
      "LinearGAM                                                                                                 \n",
      "=============================================== ==========================================================\n",
      "Distribution:                        NormalDist Effective DoF:                                     12.1153\n",
      "Link Function:                     IdentityLink Log Likelihood:                                -10210.8088\n",
      "Number of Samples:                         1535 AIC:                                            20447.8482\n",
      "                                                AICc:                                           20448.0916\n",
      "                                                GCV:                                              312.8563\n",
      "                                                Scale:                                            308.4148\n",
      "                                                Pseudo R-Squared:                                   0.1435\n",
      "==========================================================================================================\n",
      "Feature Function                  Lambda               Rank         EDoF         P > x        Sig. Code   \n",
      "================================= ==================== ============ ============ ============ ============\n",
      "s(0)                              [0.6]                10           6.9          7.84e-10     ***         \n",
      "s(1)                              [0.6]                10           5.2          2.20e-05     ***         \n",
      "intercept                                              1            0.0          1.11e-16     ***         \n",
      "==========================================================================================================\n",
      "Significance codes:  0 '***' 0.001 '**' 0.01 '*' 0.05 '.' 0.1 ' ' 1\n",
      "\n",
      "WARNING: Fitting splines and a linear function to a feature introduces a model identifiability problem\n",
      "         which can cause p-values to appear significant when they are not.\n",
      "\n",
      "WARNING: p-values calculated in this manner behave correctly for un-penalized models or models with\n",
      "         known smoothing parameters, but when smoothing parameters have been estimated, the p-values\n",
      "         are typically lower than they should be, meaning that the tests reject the null too readily.\n"
     ]
    },
    {
     "name": "stderr",
     "output_type": "stream",
     "text": [
      "C:\\Users\\Admin\\Anaconda3\\lib\\site-packages\\ipykernel_launcher.py:12: UserWarning: KNOWN BUG: p-values computed in this summary are likely much smaller than they should be. \n",
      " \n",
      "Please do not make inferences based on these values! \n",
      "\n",
      "Collaborate on a solution, and stay up to date at: \n",
      "github.com/dswah/pyGAM/issues/163 \n",
      "\n",
      "  if sys.path[0] == '':\n"
     ]
    }
   ],
   "source": [
    "#https://stackoverflow.com/questions/45879954/generalised-additive-model-python\n",
    "#pip install pyGAM\n",
    "from pygam import LinearGAM\n",
    "\n",
    "#lam = np.logspace(-3, 3, 5)\n",
    "#lams = [lam] * 13\n",
    "\n",
    "gam1 = LinearGAM(spline_order=3).fit(x, y)\n",
    "gam1.summary()\n",
    "#gam1.gridsearch(x, y, lam=lams)\n",
    "gam1.gridsearch(x, y, n_splines=np.arange(100))\n",
    "gam1.summary()"
   ]
  },
  {
   "cell_type": "markdown",
   "metadata": {},
   "source": [
    "# PASSING"
   ]
  },
  {
   "cell_type": "code",
   "execution_count": 44,
   "metadata": {},
   "outputs": [
    {
     "data": {
      "text/html": [
       "<style  type=\"text/css\" >\n",
       "    #T_5aa3cc62_ec79_11ea_a21f_2c4d54283764row0_col0 {\n",
       "            background-color:  #b40426;\n",
       "            color:  #f1f1f1;\n",
       "            max-width:  10px;\n",
       "            font-size:  10pt;\n",
       "        }    #T_5aa3cc62_ec79_11ea_a21f_2c4d54283764row0_col1 {\n",
       "            background-color:  #3f53c6;\n",
       "            color:  #f1f1f1;\n",
       "            max-width:  10px;\n",
       "            font-size:  10pt;\n",
       "        }    #T_5aa3cc62_ec79_11ea_a21f_2c4d54283764row0_col2 {\n",
       "            background-color:  #3b4cc0;\n",
       "            color:  #f1f1f1;\n",
       "            max-width:  10px;\n",
       "            font-size:  10pt;\n",
       "        }    #T_5aa3cc62_ec79_11ea_a21f_2c4d54283764row0_col3 {\n",
       "            background-color:  #abc8fd;\n",
       "            color:  #000000;\n",
       "            max-width:  10px;\n",
       "            font-size:  10pt;\n",
       "        }    #T_5aa3cc62_ec79_11ea_a21f_2c4d54283764row1_col0 {\n",
       "            background-color:  #3f53c6;\n",
       "            color:  #f1f1f1;\n",
       "            max-width:  10px;\n",
       "            font-size:  10pt;\n",
       "        }    #T_5aa3cc62_ec79_11ea_a21f_2c4d54283764row1_col1 {\n",
       "            background-color:  #b40426;\n",
       "            color:  #f1f1f1;\n",
       "            max-width:  10px;\n",
       "            font-size:  10pt;\n",
       "        }    #T_5aa3cc62_ec79_11ea_a21f_2c4d54283764row1_col2 {\n",
       "            background-color:  #4055c8;\n",
       "            color:  #f1f1f1;\n",
       "            max-width:  10px;\n",
       "            font-size:  10pt;\n",
       "        }    #T_5aa3cc62_ec79_11ea_a21f_2c4d54283764row1_col3 {\n",
       "            background-color:  #b1cbfc;\n",
       "            color:  #000000;\n",
       "            max-width:  10px;\n",
       "            font-size:  10pt;\n",
       "        }    #T_5aa3cc62_ec79_11ea_a21f_2c4d54283764row2_col0 {\n",
       "            background-color:  #3b4cc0;\n",
       "            color:  #f1f1f1;\n",
       "            max-width:  10px;\n",
       "            font-size:  10pt;\n",
       "        }    #T_5aa3cc62_ec79_11ea_a21f_2c4d54283764row2_col1 {\n",
       "            background-color:  #4055c8;\n",
       "            color:  #f1f1f1;\n",
       "            max-width:  10px;\n",
       "            font-size:  10pt;\n",
       "        }    #T_5aa3cc62_ec79_11ea_a21f_2c4d54283764row2_col2 {\n",
       "            background-color:  #b40426;\n",
       "            color:  #f1f1f1;\n",
       "            max-width:  10px;\n",
       "            font-size:  10pt;\n",
       "        }    #T_5aa3cc62_ec79_11ea_a21f_2c4d54283764row2_col3 {\n",
       "            background-color:  #5a78e4;\n",
       "            color:  #000000;\n",
       "            max-width:  10px;\n",
       "            font-size:  10pt;\n",
       "        }    #T_5aa3cc62_ec79_11ea_a21f_2c4d54283764row3_col0 {\n",
       "            background-color:  #abc8fd;\n",
       "            color:  #000000;\n",
       "            max-width:  10px;\n",
       "            font-size:  10pt;\n",
       "        }    #T_5aa3cc62_ec79_11ea_a21f_2c4d54283764row3_col1 {\n",
       "            background-color:  #b1cbfc;\n",
       "            color:  #000000;\n",
       "            max-width:  10px;\n",
       "            font-size:  10pt;\n",
       "        }    #T_5aa3cc62_ec79_11ea_a21f_2c4d54283764row3_col2 {\n",
       "            background-color:  #5a78e4;\n",
       "            color:  #000000;\n",
       "            max-width:  10px;\n",
       "            font-size:  10pt;\n",
       "        }    #T_5aa3cc62_ec79_11ea_a21f_2c4d54283764row3_col3 {\n",
       "            background-color:  #b40426;\n",
       "            color:  #f1f1f1;\n",
       "            max-width:  10px;\n",
       "            font-size:  10pt;\n",
       "        }</style><table id=\"T_5aa3cc62_ec79_11ea_a21f_2c4d54283764\" ><thead>    <tr>        <th class=\"blank level0\" ></th>        <th class=\"col_heading level0 col0\" >Passaggio propositivo e nell’ultimo 1/3 di campo</th>        <th class=\"col_heading level0 col1\" >Gioco con palla in movimento</th>        <th class=\"col_heading level0 col2\" >Inefficacia del passaggio</th>        <th class=\"col_heading level0 col3\" >passing</th>    </tr></thead><tbody>\n",
       "                <tr>\n",
       "                        <th id=\"T_5aa3cc62_ec79_11ea_a21f_2c4d54283764level0_row0\" class=\"row_heading level0 row0\" >Passaggio propositivo e nell’ultimo 1/3 di campo</th>\n",
       "                        <td id=\"T_5aa3cc62_ec79_11ea_a21f_2c4d54283764row0_col0\" class=\"data row0 col0\" >1</td>\n",
       "                        <td id=\"T_5aa3cc62_ec79_11ea_a21f_2c4d54283764row0_col1\" class=\"data row0 col1\" >0.0098</td>\n",
       "                        <td id=\"T_5aa3cc62_ec79_11ea_a21f_2c4d54283764row0_col2\" class=\"data row0 col2\" >-0.0078</td>\n",
       "                        <td id=\"T_5aa3cc62_ec79_11ea_a21f_2c4d54283764row0_col3\" class=\"data row0 col3\" >0.33</td>\n",
       "            </tr>\n",
       "            <tr>\n",
       "                        <th id=\"T_5aa3cc62_ec79_11ea_a21f_2c4d54283764level0_row1\" class=\"row_heading level0 row1\" >Gioco con palla in movimento</th>\n",
       "                        <td id=\"T_5aa3cc62_ec79_11ea_a21f_2c4d54283764row1_col0\" class=\"data row1 col0\" >0.0098</td>\n",
       "                        <td id=\"T_5aa3cc62_ec79_11ea_a21f_2c4d54283764row1_col1\" class=\"data row1 col1\" >1</td>\n",
       "                        <td id=\"T_5aa3cc62_ec79_11ea_a21f_2c4d54283764row1_col2\" class=\"data row1 col2\" >0.014</td>\n",
       "                        <td id=\"T_5aa3cc62_ec79_11ea_a21f_2c4d54283764row1_col3\" class=\"data row1 col3\" >0.35</td>\n",
       "            </tr>\n",
       "            <tr>\n",
       "                        <th id=\"T_5aa3cc62_ec79_11ea_a21f_2c4d54283764level0_row2\" class=\"row_heading level0 row2\" >Inefficacia del passaggio</th>\n",
       "                        <td id=\"T_5aa3cc62_ec79_11ea_a21f_2c4d54283764row2_col0\" class=\"data row2 col0\" >-0.0078</td>\n",
       "                        <td id=\"T_5aa3cc62_ec79_11ea_a21f_2c4d54283764row2_col1\" class=\"data row2 col1\" >0.014</td>\n",
       "                        <td id=\"T_5aa3cc62_ec79_11ea_a21f_2c4d54283764row2_col2\" class=\"data row2 col2\" >1</td>\n",
       "                        <td id=\"T_5aa3cc62_ec79_11ea_a21f_2c4d54283764row2_col3\" class=\"data row2 col3\" >0.096</td>\n",
       "            </tr>\n",
       "            <tr>\n",
       "                        <th id=\"T_5aa3cc62_ec79_11ea_a21f_2c4d54283764level0_row3\" class=\"row_heading level0 row3\" >passing</th>\n",
       "                        <td id=\"T_5aa3cc62_ec79_11ea_a21f_2c4d54283764row3_col0\" class=\"data row3 col0\" >0.33</td>\n",
       "                        <td id=\"T_5aa3cc62_ec79_11ea_a21f_2c4d54283764row3_col1\" class=\"data row3 col1\" >0.35</td>\n",
       "                        <td id=\"T_5aa3cc62_ec79_11ea_a21f_2c4d54283764row3_col2\" class=\"data row3 col2\" >0.096</td>\n",
       "                        <td id=\"T_5aa3cc62_ec79_11ea_a21f_2c4d54283764row3_col3\" class=\"data row3 col3\" >1</td>\n",
       "            </tr>\n",
       "    </tbody></table>"
      ],
      "text/plain": [
       "<pandas.io.formats.style.Styler at 0x2614225f4c8>"
      ]
     },
     "execution_count": 44,
     "metadata": {},
     "output_type": "execute_result"
    }
   ],
   "source": [
    "shape = df.shape\n",
    "features = list(df.columns[12:15])\n",
    "\n",
    "# Separating out the features\n",
    "x = df.loc[:, features].values\n",
    "y = df.loc[:, 'passing'].values\n",
    "\n",
    "#CORRELAZIONE CON DEFENDING\n",
    "corr_df = df.iloc[:,12:15]\n",
    "corr_df['passing'] = df.passing \n",
    "corr_df = corr_df.corr()\n",
    "corr_df.iloc[:,-1]\n",
    "\n",
    "import matplotlib.pyplot as plt\n",
    "\n",
    "#https://stackoverflow.com/questions/29432629/plot-correlation-matrix-using-pandas\n",
    "corr_df.style.background_gradient(cmap='coolwarm', axis=None)\\\n",
    "    .set_properties(**{'max-width': '10px', 'font-size': '10pt'})\\\n",
    "    .set_precision(2)"
   ]
  },
  {
   "cell_type": "code",
   "execution_count": 45,
   "metadata": {},
   "outputs": [
    {
     "data": {
      "text/plain": [
       "['Passaggio propositivo e nell’ultimo 1/3 di campo',\n",
       " 'Gioco con palla in movimento',\n",
       " 'Inefficacia del passaggio']"
      ]
     },
     "execution_count": 45,
     "metadata": {},
     "output_type": "execute_result"
    }
   ],
   "source": [
    "features"
   ]
  },
  {
   "cell_type": "markdown",
   "metadata": {},
   "source": [
    "### LINEAR REGRESSION MODELS"
   ]
  },
  {
   "cell_type": "markdown",
   "metadata": {},
   "source": [
    "#### MULTIPLE LINEAR REGRESSION"
   ]
  },
  {
   "cell_type": "code",
   "execution_count": 46,
   "metadata": {},
   "outputs": [
    {
     "name": "stdout",
     "output_type": "stream",
     "text": [
      "Coefficients: \n",
      " [0.75987895 1.72711063 0.65034219]\n",
      "Intercept: \n",
      " 63.47009837628476\n",
      "Score: \n",
      " 0.2371692047592272\n",
      "R^2: 0.237,\n",
      "R^2_adj: 0.236\n",
      "coef_pval:\n",
      " [0.00000000e+00 0.00000000e+00 0.00000000e+00 2.73303274e-05]\n",
      "\n",
      "=========== SUMMARY ===========\n",
      "Residuals:\n",
      "     Min      1Q  Median       3Q       Max\n",
      " 57.7442  60.119  61.627  64.7036  104.6062\n",
      "\n",
      "\n",
      "Coefficients:\n",
      "                                                   Estimate  Std. Error   t value   p value\n",
      "_intercept                                        63.470098    0.258413  245.6146  0.000000\n",
      "Passaggio propositivo e nell’ultimo 1/3 di campo   0.759879    0.051467   14.7643  0.000000\n",
      "Gioco con palla in movimento                       1.727111    0.112364   15.3706  0.000000\n",
      "Inefficacia del passaggio                          0.650342    0.154571    4.2074  0.000027\n",
      "---\n",
      "R-squared:  0.23717,    Adjusted R-squared:  0.23567\n",
      "F-statistic: 158.67 on 3 features\n"
     ]
    }
   ],
   "source": [
    "#multiple regression model including all features\n",
    "from sklearn.linear_model import LinearRegression\n",
    "\n",
    "reg = LinearRegression().fit(x, y)\n",
    "# The coefficients\n",
    "print('Coefficients: \\n', reg.coef_)\n",
    "# The intercept\n",
    "print('Intercept: \\n', reg.intercept_)\n",
    "# The score\n",
    "print('Score: \\n', reg.score(x, y))\n",
    "\n",
    "# SST = SSR + SSE\n",
    "#https://stackoverflow.com/questions/42033720/python-sklearn-multiple-linear-regression-display-r-squared\n",
    "model = LinearRegression()\n",
    "model.fit(x,y)\n",
    "# compute with formulas from the theory\n",
    "yhat = model.predict(x)\n",
    "SS_Residual = sum((y-yhat)**2)       \n",
    "SS_Total = sum((y-np.mean(y))**2)     \n",
    "r_squared = 1 - (float(SS_Residual))/SS_Total\n",
    "adjusted_r_squared = 1 - (1-r_squared)*(len(y)-1)/(len(y)-x.shape[1]-1)\n",
    "print(f\"R^2: {r_squared:.3f},\\nR^2_adj: {adjusted_r_squared:.3f}\")\n",
    "\n",
    "#https://stackoverflow.com/questions/44495667/calculate-p-value-in-sklearn-using-python\n",
    "#pip install regressors\n",
    "from regressors import stats\n",
    "\n",
    "# To calculate the p-values of beta coefficients: \n",
    "print(\"coef_pval:\\n\", stats.coef_pval(reg, x, y))\n",
    "# to print summary table:\n",
    "print(\"\\n=========== SUMMARY ===========\")\n",
    "xlabels = features\n",
    "stats.summary(reg, x, y, xlabels)"
   ]
  },
  {
   "cell_type": "markdown",
   "metadata": {},
   "source": [
    "#### LASSO"
   ]
  },
  {
   "cell_type": "code",
   "execution_count": 47,
   "metadata": {},
   "outputs": [
    {
     "name": "stdout",
     "output_type": "stream",
     "text": [
      "Coefficients: \n",
      " [0.7558981  1.70864877 0.61481525]\n",
      "Intercept: \n",
      " 63.47062498634515\n",
      "R^2: 0.237,\n",
      "R^2_adj: 0.236\n",
      "coef_pval:\n",
      " [0.00000000e+00 0.00000000e+00 0.00000000e+00 7.29083095e-05]\n",
      "\n",
      "=========== SUMMARY ===========\n",
      "Residuals:\n",
      "     Min       1Q   Median       3Q       Max\n",
      " 57.7757  60.1445  61.6329  64.7081  103.9703\n",
      "\n",
      "\n",
      "Coefficients:\n",
      "                                                   Estimate  Std. Error   t value   p value\n",
      "_intercept                                        63.470625    0.258421  245.6097  0.000000\n",
      "Passaggio propositivo e nell’ultimo 1/3 di campo   0.755898    0.051469   14.6865  0.000000\n",
      "Gioco con palla in movimento                       1.708649    0.112367   15.2059  0.000000\n",
      "Inefficacia del passaggio                          0.614815    0.154576    3.9774  0.000073\n",
      "---\n",
      "R-squared:  0.23713,    Adjusted R-squared:  0.23563\n",
      "F-statistic: 158.63 on 3 features\n"
     ]
    }
   ],
   "source": [
    "from sklearn.linear_model import Lasso\n",
    "\n",
    "reg_lasso = Lasso(alpha=0.1)\n",
    "reg_lasso.fit(x,y)\n",
    "\n",
    "# The coefficients\n",
    "print('Coefficients: \\n', reg_lasso.coef_)\n",
    "# The intercept\n",
    "print('Intercept: \\n', reg_lasso.intercept_)\n",
    "#R^2\n",
    "print(f\"R^2: {reg_lasso.score(x, y):.3f},\\nR^2_adj: {1 - (1-reg_lasso.score(x, y))*(len(y)-1)/(len(y)-x.shape[1]-1):.3f}\")\n",
    "\n",
    "# To calculate the p-values of beta coefficients: \n",
    "print(\"coef_pval:\\n\", stats.coef_pval(reg_lasso, x, y))\n",
    "# to print summary table:\n",
    "print(\"\\n=========== SUMMARY ===========\")\n",
    "xlabels = features\n",
    "stats.summary(reg_lasso, x, y, xlabels)"
   ]
  },
  {
   "cell_type": "code",
   "execution_count": 48,
   "metadata": {},
   "outputs": [
    {
     "name": "stdout",
     "output_type": "stream",
     "text": [
      "0.2371574509000107\n",
      "0.05217813148876957\n"
     ]
    }
   ],
   "source": [
    "from sklearn.linear_model import LassoCV\n",
    "\n",
    "values = 10**np.linspace(0.5,-2,1000)*0.5\n",
    "\n",
    "reg_lasso_CV = LassoCV(cv=5, alphas=values).fit(x, y)\n",
    "print(reg_lasso_CV.score(x, y))\n",
    "print(reg_lasso_CV.alpha_)"
   ]
  },
  {
   "cell_type": "code",
   "execution_count": 49,
   "metadata": {},
   "outputs": [
    {
     "name": "stdout",
     "output_type": "stream",
     "text": [
      "(0.023207944168063887, array([0.22917659]))\n"
     ]
    },
    {
     "data": {
      "text/plain": [
       "<matplotlib.collections.PathCollection at 0x26145c46488>"
      ]
     },
     "execution_count": 49,
     "metadata": {},
     "output_type": "execute_result"
    },
    {
     "data": {
      "image/png": "[encoded data removed]",
      "text/plain": [
       "<Figure size 720x432 with 1 Axes>"
      ]
     },
     "metadata": {
      "needs_background": "light"
     },
     "output_type": "display_data"
    }
   ],
   "source": [
    "#https://scikit-learn.org/stable/modules/cross_validation.html\n",
    "from sklearn.model_selection import cross_val_score\n",
    "\n",
    "values = 10**np.linspace(0.2,-2,100)*0.5\n",
    "results = []\n",
    "for alpha in values:\n",
    "    #print(f'Alpha: {alpha}')\n",
    "    reg_lasso = Lasso(alpha=alpha)\n",
    "    scores = cross_val_score(reg_lasso, x, y, cv=5)\n",
    "    score = np.sum(scores)/scores.shape\n",
    "    results.append((alpha,score))\n",
    "\n",
    "\n",
    "sorted_by_score = sorted(results, key=lambda tup: tup[1])\n",
    "max_score = sorted_by_score[-1][1]\n",
    "max_alpha = sorted_by_score[-1][0]\n",
    "print(sorted_by_score[-1])\n",
    "\n",
    "\n",
    "alpha_val = [couple[0] for couple in results]\n",
    "score_val = [couple[1] for couple in results]\n",
    "\n",
    "# Plotting\n",
    "fig = plt.figure(figsize=(10,6))\n",
    "fig.suptitle('Score vs. alpha value (5-fold CV)', fontsize=30)\n",
    "#plt.title()\n",
    "plt.xlabel('alpha', fontsize=20)\n",
    "plt.ylabel('score', fontsize=20)\n",
    "#plt.hlines(y=0.815,xmin=0,xmax=5.0,colors='red',linestyles='dashed')\n",
    "plt.plot(alpha_val, score_val)\n",
    "plt.grid(True)\n",
    "plt.scatter(max_alpha, max_score, s=100, c='green', marker='x')\n",
    "#plt.scatter(alpha_val, score_val)"
   ]
  },
  {
   "cell_type": "markdown",
   "metadata": {},
   "source": [
    "#### RIDGE"
   ]
  },
  {
   "cell_type": "code",
   "execution_count": 50,
   "metadata": {},
   "outputs": [
    {
     "name": "stdout",
     "output_type": "stream",
     "text": [
      "Coefficients: \n",
      " [0.75987704 1.72708954 0.65032739]\n",
      "Intercept: \n",
      " 63.47009838428176\n",
      "R^2: 0.237,\n",
      "R^2_adj: 0.236\n",
      "coef_pval:\n",
      " [0.00000000e+00 0.00000000e+00 0.00000000e+00 2.73417695e-05]\n",
      "\n",
      "=========== SUMMARY ===========\n",
      "Residuals:\n",
      "     Min      1Q  Median       3Q       Max\n",
      " 57.7443  60.119  61.627  64.7035  104.6058\n",
      "\n",
      "\n",
      "Coefficients:\n",
      "                                                   Estimate  Std. Error   t value   p value\n",
      "_intercept                                        63.470098    0.258413  245.6146  0.000000\n",
      "Passaggio propositivo e nell’ultimo 1/3 di campo   0.759877    0.051467   14.7643  0.000000\n",
      "Gioco con palla in movimento                       1.727090    0.112364   15.3705  0.000000\n",
      "Inefficacia del passaggio                          0.650327    0.154571    4.2073  0.000027\n",
      "---\n",
      "R-squared:  0.23717,    Adjusted R-squared:  0.23567\n",
      "F-statistic: 158.67 on 3 features\n"
     ]
    }
   ],
   "source": [
    "from sklearn.linear_model import Ridge\n",
    "\n",
    "reg_ridge = Ridge(alpha=0.1)\n",
    "reg_ridge.fit(x,y)\n",
    "\n",
    "# The coefficients\n",
    "print('Coefficients: \\n', reg_ridge.coef_)\n",
    "# The intercept\n",
    "print('Intercept: \\n', reg_ridge.intercept_)\n",
    "#R^2\n",
    "print(f\"R^2: {reg_ridge.score(x, y):.3f},\\nR^2_adj: {1 - (1-reg_ridge.score(x, y))*(len(y)-1)/(len(y)-x.shape[1]-1):.3f}\")\n",
    "\n",
    "# To calculate the p-values of beta coefficients: \n",
    "print(\"coef_pval:\\n\", stats.coef_pval(reg_ridge, x, y))\n",
    "# to print summary table:\n",
    "print(\"\\n=========== SUMMARY ===========\")\n",
    "xlabels = features\n",
    "stats.summary(reg_ridge, x, y, xlabels)"
   ]
  },
  {
   "cell_type": "code",
   "execution_count": 51,
   "metadata": {},
   "outputs": [
    {
     "name": "stdout",
     "output_type": "stream",
     "text": [
      "0.23712869166372763\n",
      "135.1\n"
     ]
    }
   ],
   "source": [
    "from sklearn.linear_model import RidgeCV\n",
    "\n",
    "alphas=np.arange(0.1,200.0)\n",
    "\n",
    "reg_ridge_CV = RidgeCV(alphas=alphas,cv=5).fit(x, y)\n",
    "print(reg_ridge_CV.score(x, y))\n",
    "print(reg_ridge_CV.alpha_)"
   ]
  },
  {
   "cell_type": "code",
   "execution_count": 52,
   "metadata": {},
   "outputs": [
    {
     "name": "stdout",
     "output_type": "stream",
     "text": [
      "(136, array([0.22924468]))\n"
     ]
    },
    {
     "data": {
      "text/plain": [
       "<matplotlib.collections.PathCollection at 0x26142489348>"
      ]
     },
     "execution_count": 52,
     "metadata": {},
     "output_type": "execute_result"
    },
    {
     "data": {
      "image/png": "[encoded data removed]",
      "text/plain": [
       "<Figure size 720x432 with 1 Axes>"
      ]
     },
     "metadata": {
      "needs_background": "light"
     },
     "output_type": "display_data"
    }
   ],
   "source": [
    "values = np.arange(0,1000)\n",
    "results = []\n",
    "for alpha in values:\n",
    "    #print(f'Alpha: {alpha}')\n",
    "    reg_ridge = Ridge(alpha=alpha)\n",
    "    scores = cross_val_score(reg_ridge, x, y, cv=5)\n",
    "    score = np.sum(scores)/scores.shape\n",
    "    results.append((alpha,score))\n",
    "#print(results)\n",
    "sorted_by_score = sorted(results, key=lambda tup: tup[1])\n",
    "max_score = sorted_by_score[-1][1]\n",
    "max_alpha = sorted_by_score[-1][0]\n",
    "print(sorted_by_score[-1])\n",
    "\n",
    "alpha_val = [couple[0] for couple in results]\n",
    "score_val = [couple[1] for couple in results]\n",
    "\n",
    "# Plotting\n",
    "fig = plt.figure(figsize=(10,6))\n",
    "fig.suptitle('Score vs. alpha value (5-fold CV)', fontsize=30)\n",
    "#plt.title()\n",
    "plt.xlabel('alpha', fontsize=20)\n",
    "plt.ylabel('score', fontsize=20)\n",
    "#plt.hlines(y=0.815,xmin=0,xmax=5.0,colors='red',linestyles='dashed')\n",
    "plt.plot(alpha_val, score_val)\n",
    "plt.grid(True)\n",
    "plt.scatter(max_alpha, max_score, s=100, c='green', marker='x')\n",
    "#plt.scatter(alpha_val, score_val)"
   ]
  },
  {
   "cell_type": "markdown",
   "metadata": {},
   "source": [
    "### POLYNOMINAL FIT"
   ]
  },
  {
   "cell_type": "code",
   "execution_count": 53,
   "metadata": {},
   "outputs": [
    {
     "name": "stdout",
     "output_type": "stream",
     "text": [
      "R^2: 0.390,\n",
      "R^2_adj: 0.382\n"
     ]
    }
   ],
   "source": [
    "from sklearn.preprocessing import PolynomialFeatures \n",
    "  \n",
    "poly = PolynomialFeatures(degree = 3) \n",
    "x_poly = poly.fit_transform(x) \n",
    "  \n",
    "poly.fit(x_poly, y) \n",
    "lin2 = LinearRegression() \n",
    "lin2.fit(x_poly, y) \n",
    "\n",
    "# The coefficients\n",
    "#print('Coefficients: \\n', lin2.coef_)\n",
    "# The intercept\n",
    "#print('Intercept: \\n', lin2.intercept_)\n",
    "# The score\n",
    "#print('Score: \\n', lin2.score(x_poly, y))\n",
    "print(f\"R^2: {lin2.score(x_poly, y):.3f},\\nR^2_adj: {1 - (1-lin2.score(x_poly, y))*(len(y)-1)/(len(y)-x_poly.shape[1]-1):.3f}\")"
   ]
  },
  {
   "cell_type": "markdown",
   "metadata": {},
   "source": [
    "### GENERALIZED ADDITIVE MODELS"
   ]
  },
  {
   "cell_type": "code",
   "execution_count": 54,
   "metadata": {},
   "outputs": [
    {
     "name": "stderr",
     "output_type": "stream",
     "text": [
      "C:\\Users\\Admin\\Anaconda3\\lib\\site-packages\\ipykernel_launcher.py:9: UserWarning: KNOWN BUG: p-values computed in this summary are likely much smaller than they should be. \n",
      " \n",
      "Please do not make inferences based on these values! \n",
      "\n",
      "Collaborate on a solution, and stay up to date at: \n",
      "github.com/dswah/pyGAM/issues/163 \n",
      "\n",
      "  if __name__ == '__main__':\n",
      " 11% (11 of 100) |##                     | Elapsed Time: 0:00:00 ETA:   0:00:01"
     ]
    },
    {
     "name": "stdout",
     "output_type": "stream",
     "text": [
      "LinearGAM                                                                                                 \n",
      "=============================================== ==========================================================\n",
      "Distribution:                        NormalDist Effective DoF:                                     35.6074\n",
      "Link Function:                     IdentityLink Log Likelihood:                                 -8254.1462\n",
      "Number of Samples:                         1535 AIC:                                            16581.5074\n",
      "                                                AICc:                                           16583.3462\n",
      "                                                GCV:                                               89.5884\n",
      "                                                Scale:                                             85.8556\n",
      "                                                Pseudo R-Squared:                                   0.3754\n",
      "==========================================================================================================\n",
      "Feature Function                  Lambda               Rank         EDoF         P > x        Sig. Code   \n",
      "================================= ==================== ============ ============ ============ ============\n",
      "s(0)                              [0.6]                20           14.5         1.11e-16     ***         \n",
      "s(1)                              [0.6]                20           11.5         1.11e-16     ***         \n",
      "s(2)                              [0.6]                20           9.6          1.11e-16     ***         \n",
      "intercept                                              1            0.0          1.11e-16     ***         \n",
      "==========================================================================================================\n",
      "Significance codes:  0 '***' 0.001 '**' 0.01 '*' 0.05 '.' 0.1 ' ' 1\n",
      "\n",
      "WARNING: Fitting splines and a linear function to a feature introduces a model identifiability problem\n",
      "         which can cause p-values to appear significant when they are not.\n",
      "\n",
      "WARNING: p-values calculated in this manner behave correctly for un-penalized models or models with\n",
      "         known smoothing parameters, but when smoothing parameters have been estimated, the p-values\n",
      "         are typically lower than they should be, meaning that the tests reject the null too readily.\n"
     ]
    },
    {
     "name": "stderr",
     "output_type": "stream",
     "text": [
      "100% (100 of 100) |######################| Elapsed Time: 0:00:09 Time:  0:00:09\n"
     ]
    },
    {
     "name": "stdout",
     "output_type": "stream",
     "text": [
      "LinearGAM                                                                                                 \n",
      "=============================================== ==========================================================\n",
      "Distribution:                        NormalDist Effective DoF:                                     19.4429\n",
      "Link Function:                     IdentityLink Log Likelihood:                                 -8252.6997\n",
      "Number of Samples:                         1535 AIC:                                            16546.2852\n",
      "                                                AICc:                                           16546.8645\n",
      "                                                GCV:                                               87.7677\n",
      "                                                Scale:                                              85.769\n",
      "                                                Pseudo R-Squared:                                   0.3693\n",
      "==========================================================================================================\n",
      "Feature Function                  Lambda               Rank         EDoF         P > x        Sig. Code   \n",
      "================================= ==================== ============ ============ ============ ============\n",
      "s(0)                              [0.6]                11           8.1          1.11e-16     ***         \n",
      "s(1)                              [0.6]                11           5.8          1.11e-16     ***         \n",
      "s(2)                              [0.6]                11           5.6          1.11e-16     ***         \n",
      "intercept                                              1            0.0          1.11e-16     ***         \n",
      "==========================================================================================================\n",
      "Significance codes:  0 '***' 0.001 '**' 0.01 '*' 0.05 '.' 0.1 ' ' 1\n",
      "\n",
      "WARNING: Fitting splines and a linear function to a feature introduces a model identifiability problem\n",
      "         which can cause p-values to appear significant when they are not.\n",
      "\n",
      "WARNING: p-values calculated in this manner behave correctly for un-penalized models or models with\n",
      "         known smoothing parameters, but when smoothing parameters have been estimated, the p-values\n",
      "         are typically lower than they should be, meaning that the tests reject the null too readily.\n"
     ]
    },
    {
     "name": "stderr",
     "output_type": "stream",
     "text": [
      "C:\\Users\\Admin\\Anaconda3\\lib\\site-packages\\ipykernel_launcher.py:12: UserWarning: KNOWN BUG: p-values computed in this summary are likely much smaller than they should be. \n",
      " \n",
      "Please do not make inferences based on these values! \n",
      "\n",
      "Collaborate on a solution, and stay up to date at: \n",
      "github.com/dswah/pyGAM/issues/163 \n",
      "\n",
      "  if sys.path[0] == '':\n"
     ]
    }
   ],
   "source": [
    "#https://stackoverflow.com/questions/45879954/generalised-additive-model-python\n",
    "#pip install pyGAM\n",
    "from pygam import LinearGAM\n",
    "\n",
    "#lam = np.logspace(-3, 3, 5)\n",
    "#lams = [lam] * 13\n",
    "\n",
    "gam1 = LinearGAM(spline_order=3).fit(x, y)\n",
    "gam1.summary()\n",
    "#gam1.gridsearch(x, y, lam=lams)\n",
    "gam1.gridsearch(x, y, n_splines=np.arange(100))\n",
    "gam1.summary()"
   ]
  },
  {
   "cell_type": "markdown",
   "metadata": {},
   "source": [
    "# POSSESSION"
   ]
  },
  {
   "cell_type": "code",
   "execution_count": 55,
   "metadata": {},
   "outputs": [
    {
     "data": {
      "text/html": [
       "<style  type=\"text/css\" >\n",
       "    #T_da56bc34_ec79_11ea_895e_2c4d54283764row0_col0 {\n",
       "            background-color:  #b40426;\n",
       "            color:  #f1f1f1;\n",
       "            max-width:  10px;\n",
       "            font-size:  10pt;\n",
       "        }    #T_da56bc34_ec79_11ea_895e_2c4d54283764row0_col1 {\n",
       "            background-color:  #3b4cc0;\n",
       "            color:  #f1f1f1;\n",
       "            max-width:  10px;\n",
       "            font-size:  10pt;\n",
       "        }    #T_da56bc34_ec79_11ea_895e_2c4d54283764row0_col2 {\n",
       "            background-color:  #a7c5fe;\n",
       "            color:  #000000;\n",
       "            max-width:  10px;\n",
       "            font-size:  10pt;\n",
       "        }    #T_da56bc34_ec79_11ea_895e_2c4d54283764row1_col0 {\n",
       "            background-color:  #3b4cc0;\n",
       "            color:  #f1f1f1;\n",
       "            max-width:  10px;\n",
       "            font-size:  10pt;\n",
       "        }    #T_da56bc34_ec79_11ea_895e_2c4d54283764row1_col1 {\n",
       "            background-color:  #b40426;\n",
       "            color:  #f1f1f1;\n",
       "            max-width:  10px;\n",
       "            font-size:  10pt;\n",
       "        }    #T_da56bc34_ec79_11ea_895e_2c4d54283764row1_col2 {\n",
       "            background-color:  #d8dce2;\n",
       "            color:  #000000;\n",
       "            max-width:  10px;\n",
       "            font-size:  10pt;\n",
       "        }    #T_da56bc34_ec79_11ea_895e_2c4d54283764row2_col0 {\n",
       "            background-color:  #a7c5fe;\n",
       "            color:  #000000;\n",
       "            max-width:  10px;\n",
       "            font-size:  10pt;\n",
       "        }    #T_da56bc34_ec79_11ea_895e_2c4d54283764row2_col1 {\n",
       "            background-color:  #d8dce2;\n",
       "            color:  #000000;\n",
       "            max-width:  10px;\n",
       "            font-size:  10pt;\n",
       "        }    #T_da56bc34_ec79_11ea_895e_2c4d54283764row2_col2 {\n",
       "            background-color:  #b40426;\n",
       "            color:  #f1f1f1;\n",
       "            max-width:  10px;\n",
       "            font-size:  10pt;\n",
       "        }</style><table id=\"T_da56bc34_ec79_11ea_895e_2c4d54283764\" ><thead>    <tr>        <th class=\"blank level0\" ></th>        <th class=\"col_heading level0 col0\" >Alta propositività nella metà campo avversaria</th>        <th class=\"col_heading level0 col1\" >Avanzamento e dribbling aggressivo/superfluo</th>        <th class=\"col_heading level0 col2\" >dribbling</th>    </tr></thead><tbody>\n",
       "                <tr>\n",
       "                        <th id=\"T_da56bc34_ec79_11ea_895e_2c4d54283764level0_row0\" class=\"row_heading level0 row0\" >Alta propositività nella metà campo avversaria</th>\n",
       "                        <td id=\"T_da56bc34_ec79_11ea_895e_2c4d54283764row0_col0\" class=\"data row0 col0\" >1</td>\n",
       "                        <td id=\"T_da56bc34_ec79_11ea_895e_2c4d54283764row0_col1\" class=\"data row0 col1\" >0.0053</td>\n",
       "                        <td id=\"T_da56bc34_ec79_11ea_895e_2c4d54283764row0_col2\" class=\"data row0 col2\" >0.33</td>\n",
       "            </tr>\n",
       "            <tr>\n",
       "                        <th id=\"T_da56bc34_ec79_11ea_895e_2c4d54283764level0_row1\" class=\"row_heading level0 row1\" >Avanzamento e dribbling aggressivo/superfluo</th>\n",
       "                        <td id=\"T_da56bc34_ec79_11ea_895e_2c4d54283764row1_col0\" class=\"data row1 col0\" >0.0053</td>\n",
       "                        <td id=\"T_da56bc34_ec79_11ea_895e_2c4d54283764row1_col1\" class=\"data row1 col1\" >1</td>\n",
       "                        <td id=\"T_da56bc34_ec79_11ea_895e_2c4d54283764row1_col2\" class=\"data row1 col2\" >0.48</td>\n",
       "            </tr>\n",
       "            <tr>\n",
       "                        <th id=\"T_da56bc34_ec79_11ea_895e_2c4d54283764level0_row2\" class=\"row_heading level0 row2\" >dribbling</th>\n",
       "                        <td id=\"T_da56bc34_ec79_11ea_895e_2c4d54283764row2_col0\" class=\"data row2 col0\" >0.33</td>\n",
       "                        <td id=\"T_da56bc34_ec79_11ea_895e_2c4d54283764row2_col1\" class=\"data row2 col1\" >0.48</td>\n",
       "                        <td id=\"T_da56bc34_ec79_11ea_895e_2c4d54283764row2_col2\" class=\"data row2 col2\" >1</td>\n",
       "            </tr>\n",
       "    </tbody></table>"
      ],
      "text/plain": [
       "<pandas.io.formats.style.Styler at 0x261422b66c8>"
      ]
     },
     "execution_count": 55,
     "metadata": {},
     "output_type": "execute_result"
    }
   ],
   "source": [
    "shape = df.shape\n",
    "features = list(df.columns[15:17])\n",
    "\n",
    "# Separating out the features\n",
    "x = df.loc[:, features].values\n",
    "y = df.loc[:, 'dribbling'].values\n",
    "\n",
    "#CORRELAZIONE CON DEFENDING\n",
    "corr_df = df.iloc[:,15:17]\n",
    "corr_df['dribbling'] = df.dribbling \n",
    "corr_df = corr_df.corr()\n",
    "corr_df.iloc[:,-1]\n",
    "\n",
    "import matplotlib.pyplot as plt\n",
    "\n",
    "#https://stackoverflow.com/questions/29432629/plot-correlation-matrix-using-pandas\n",
    "corr_df.style.background_gradient(cmap='coolwarm', axis=None)\\\n",
    "    .set_properties(**{'max-width': '10px', 'font-size': '10pt'})\\\n",
    "    .set_precision(2)"
   ]
  },
  {
   "cell_type": "code",
   "execution_count": 56,
   "metadata": {},
   "outputs": [
    {
     "data": {
      "text/plain": [
       "['Alta propositività nella metà campo avversaria',\n",
       " 'Avanzamento e dribbling aggressivo/superfluo']"
      ]
     },
     "execution_count": 56,
     "metadata": {},
     "output_type": "execute_result"
    }
   ],
   "source": [
    "features"
   ]
  },
  {
   "cell_type": "markdown",
   "metadata": {},
   "source": [
    "### LINEAR REGRESSION MODELS"
   ]
  },
  {
   "cell_type": "markdown",
   "metadata": {},
   "source": [
    "#### MULTIPLE LINEAR REGRESSION"
   ]
  },
  {
   "cell_type": "code",
   "execution_count": 57,
   "metadata": {},
   "outputs": [
    {
     "name": "stdout",
     "output_type": "stream",
     "text": [
      "Coefficients: \n",
      " [0.98201994 2.40013272]\n",
      "Intercept: \n",
      " 69.11691757604846\n",
      "Score: \n",
      " 0.3414977203048136\n",
      "R^2: 0.341,\n",
      "R^2_adj: 0.341\n",
      "coef_pval:\n",
      " [0. 0. 0.]\n",
      "\n",
      "=========== SUMMARY ===========\n",
      "Residuals:\n",
      "     Min       1Q   Median       3Q      Max\n",
      " 56.9218  65.4896  67.6179  71.9754  98.5759\n",
      "\n",
      "\n",
      "Coefficients:\n",
      "                                                 Estimate  Std. Error   t value  p value\n",
      "_intercept                                      69.116918    0.214195  322.6824      0.0\n",
      "Alta propositività nella metà campo avversaria   0.982020    0.062019   15.8342      0.0\n",
      "Avanzamento e dribbling aggressivo/superfluo     2.400133    0.103142   23.2701      0.0\n",
      "---\n",
      "R-squared:  0.34150,    Adjusted R-squared:  0.34064\n",
      "F-statistic: 397.25 on 2 features\n"
     ]
    }
   ],
   "source": [
    "#multiple regression model including all features\n",
    "from sklearn.linear_model import LinearRegression\n",
    "\n",
    "reg = LinearRegression().fit(x, y)\n",
    "# The coefficients\n",
    "print('Coefficients: \\n', reg.coef_)\n",
    "# The intercept\n",
    "print('Intercept: \\n', reg.intercept_)\n",
    "# The score\n",
    "print('Score: \\n', reg.score(x, y))\n",
    "\n",
    "# SST = SSR + SSE\n",
    "#https://stackoverflow.com/questions/42033720/python-sklearn-multiple-linear-regression-display-r-squared\n",
    "model = LinearRegression()\n",
    "model.fit(x,y)\n",
    "# compute with formulas from the theory\n",
    "yhat = model.predict(x)\n",
    "SS_Residual = sum((y-yhat)**2)       \n",
    "SS_Total = sum((y-np.mean(y))**2)     \n",
    "r_squared = 1 - (float(SS_Residual))/SS_Total\n",
    "adjusted_r_squared = 1 - (1-r_squared)*(len(y)-1)/(len(y)-x.shape[1]-1)\n",
    "print(f\"R^2: {r_squared:.3f},\\nR^2_adj: {adjusted_r_squared:.3f}\")\n",
    "\n",
    "#https://stackoverflow.com/questions/44495667/calculate-p-value-in-sklearn-using-python\n",
    "#pip install regressors\n",
    "from regressors import stats\n",
    "\n",
    "# To calculate the p-values of beta coefficients: \n",
    "print(\"coef_pval:\\n\", stats.coef_pval(reg, x, y))\n",
    "# to print summary table:\n",
    "print(\"\\n=========== SUMMARY ===========\")\n",
    "xlabels = features\n",
    "stats.summary(reg, x, y, xlabels)"
   ]
  },
  {
   "cell_type": "markdown",
   "metadata": {},
   "source": [
    "#### LASSO"
   ]
  },
  {
   "cell_type": "code",
   "execution_count": 58,
   "metadata": {},
   "outputs": [
    {
     "name": "stdout",
     "output_type": "stream",
     "text": [
      "Coefficients: \n",
      " [0.97370135 2.37700323]\n",
      "Intercept: \n",
      " 69.11741989662539\n",
      "R^2: 0.341,\n",
      "R^2_adj: 0.341\n",
      "coef_pval:\n",
      " [0. 0. 0.]\n",
      "\n",
      "=========== SUMMARY ===========\n",
      "Residuals:\n",
      "     Min       1Q   Median      3Q      Max\n",
      " 57.0431  65.5222  67.6293  71.952  98.3058\n",
      "\n",
      "\n",
      "Coefficients:\n",
      "                                                 Estimate  Std. Error   t value  p value\n",
      "_intercept                                      69.117420    0.214200  322.6776      0.0\n",
      "Alta propositività nella metà campo avversaria   0.973701    0.062020   15.6997      0.0\n",
      "Avanzamento e dribbling aggressivo/superfluo     2.377003    0.103145   23.0453      0.0\n",
      "---\n",
      "R-squared:  0.34147,    Adjusted R-squared:  0.34061\n",
      "F-statistic: 397.19 on 2 features\n"
     ]
    }
   ],
   "source": [
    "from sklearn.linear_model import Lasso\n",
    "\n",
    "reg_lasso = Lasso(alpha=0.1)\n",
    "reg_lasso.fit(x,y)\n",
    "\n",
    "# The coefficients\n",
    "print('Coefficients: \\n', reg_lasso.coef_)\n",
    "# The intercept\n",
    "print('Intercept: \\n', reg_lasso.intercept_)\n",
    "#R^2\n",
    "print(f\"R^2: {reg_lasso.score(x, y):.3f},\\nR^2_adj: {1 - (1-reg_lasso.score(x, y))*(len(y)-1)/(len(y)-x.shape[1]-1):.3f}\")\n",
    "\n",
    "# To calculate the p-values of beta coefficients: \n",
    "print(\"coef_pval:\\n\", stats.coef_pval(reg_lasso, x, y))\n",
    "# to print summary table:\n",
    "print(\"\\n=========== SUMMARY ===========\")\n",
    "xlabels = features\n",
    "stats.summary(reg_lasso, x, y, xlabels)"
   ]
  },
  {
   "cell_type": "code",
   "execution_count": 59,
   "metadata": {},
   "outputs": [
    {
     "name": "stdout",
     "output_type": "stream",
     "text": [
      "0.3414969829763994\n",
      "0.01582962055991761\n"
     ]
    }
   ],
   "source": [
    "from sklearn.linear_model import LassoCV\n",
    "\n",
    "values = 10**np.linspace(0.5,-2,1000)*0.5\n",
    "\n",
    "reg_lasso_CV = LassoCV(cv=5, alphas=values).fit(x, y)\n",
    "print(reg_lasso_CV.score(x, y))\n",
    "print(reg_lasso_CV.alpha_)"
   ]
  },
  {
   "cell_type": "code",
   "execution_count": 60,
   "metadata": {},
   "outputs": [
    {
     "name": "stdout",
     "output_type": "stream",
     "text": [
      "(0.04288479492954471, array([0.33681719]))\n"
     ]
    },
    {
     "data": {
      "text/plain": [
       "<matplotlib.collections.PathCollection at 0x26144b45808>"
      ]
     },
     "execution_count": 60,
     "metadata": {},
     "output_type": "execute_result"
    },
    {
     "data": {
      "image/png": "[encoded data removed]",
      "text/plain": [
       "<Figure size 720x432 with 1 Axes>"
      ]
     },
     "metadata": {
      "needs_background": "light"
     },
     "output_type": "display_data"
    }
   ],
   "source": [
    "#https://scikit-learn.org/stable/modules/cross_validation.html\n",
    "from sklearn.model_selection import cross_val_score\n",
    "\n",
    "values = 10**np.linspace(0.2,-2,100)*0.5\n",
    "results = []\n",
    "for alpha in values:\n",
    "    #print(f'Alpha: {alpha}')\n",
    "    reg_lasso = Lasso(alpha=alpha)\n",
    "    scores = cross_val_score(reg_lasso, x, y, cv=5)\n",
    "    score = np.sum(scores)/scores.shape\n",
    "    results.append((alpha,score))\n",
    "\n",
    "\n",
    "sorted_by_score = sorted(results, key=lambda tup: tup[1])\n",
    "max_score = sorted_by_score[-1][1]\n",
    "max_alpha = sorted_by_score[-1][0]\n",
    "print(sorted_by_score[-1])\n",
    "\n",
    "\n",
    "alpha_val = [couple[0] for couple in results]\n",
    "score_val = [couple[1] for couple in results]\n",
    "\n",
    "# Plotting\n",
    "fig = plt.figure(figsize=(10,6))\n",
    "fig.suptitle('Score vs. alpha value (5-fold CV)', fontsize=30)\n",
    "#plt.title()\n",
    "plt.xlabel('alpha', fontsize=20)\n",
    "plt.ylabel('score', fontsize=20)\n",
    "#plt.hlines(y=0.815,xmin=0,xmax=5.0,colors='red',linestyles='dashed')\n",
    "plt.plot(alpha_val, score_val)\n",
    "plt.grid(True)\n",
    "plt.scatter(max_alpha, max_score, s=100, c='green', marker='x')\n",
    "#plt.scatter(alpha_val, score_val)"
   ]
  },
  {
   "cell_type": "markdown",
   "metadata": {},
   "source": [
    "#### RIDGE"
   ]
  },
  {
   "cell_type": "code",
   "execution_count": 61,
   "metadata": {},
   "outputs": [
    {
     "name": "stdout",
     "output_type": "stream",
     "text": [
      "Coefficients: \n",
      " [0.98201468 2.40009648]\n",
      "Intercept: \n",
      " 69.11691765839406\n",
      "R^2: 0.341,\n",
      "R^2_adj: 0.341\n",
      "coef_pval:\n",
      " [0. 0. 0.]\n",
      "\n",
      "=========== SUMMARY ===========\n",
      "Residuals:\n",
      "    Min       1Q   Median       3Q      Max\n",
      " 56.922  65.4897  67.6179  71.9753  98.5755\n",
      "\n",
      "\n",
      "Coefficients:\n",
      "                                                 Estimate  Std. Error   t value  p value\n",
      "_intercept                                      69.116918    0.214195  322.6824      0.0\n",
      "Alta propositività nella metà campo avversaria   0.982015    0.062019   15.8341      0.0\n",
      "Avanzamento e dribbling aggressivo/superfluo     2.400096    0.103142   23.2697      0.0\n",
      "---\n",
      "R-squared:  0.34150,    Adjusted R-squared:  0.34064\n",
      "F-statistic: 397.25 on 2 features\n"
     ]
    }
   ],
   "source": [
    "from sklearn.linear_model import Ridge\n",
    "\n",
    "reg_ridge = Ridge(alpha=0.1)\n",
    "reg_ridge.fit(x,y)\n",
    "\n",
    "# The coefficients\n",
    "print('Coefficients: \\n', reg_ridge.coef_)\n",
    "# The intercept\n",
    "print('Intercept: \\n', reg_ridge.intercept_)\n",
    "#R^2\n",
    "print(f\"R^2: {reg_ridge.score(x, y):.3f},\\nR^2_adj: {1 - (1-reg_ridge.score(x, y))*(len(y)-1)/(len(y)-x.shape[1]-1):.3f}\")\n",
    "\n",
    "# To calculate the p-values of beta coefficients: \n",
    "print(\"coef_pval:\\n\", stats.coef_pval(reg_ridge, x, y))\n",
    "# to print summary table:\n",
    "print(\"\\n=========== SUMMARY ===========\")\n",
    "xlabels = features\n",
    "stats.summary(reg_ridge, x, y, xlabels)"
   ]
  },
  {
   "cell_type": "code",
   "execution_count": 62,
   "metadata": {},
   "outputs": [
    {
     "name": "stdout",
     "output_type": "stream",
     "text": [
      "0.3414958902312124\n",
      "18.1\n"
     ]
    }
   ],
   "source": [
    "from sklearn.linear_model import RidgeCV\n",
    "\n",
    "alphas=np.arange(0.1,200.0)\n",
    "\n",
    "reg_ridge_CV = RidgeCV(alphas=alphas,cv=5).fit(x, y)\n",
    "print(reg_ridge_CV.score(x, y))\n",
    "print(reg_ridge_CV.alpha_)"
   ]
  },
  {
   "cell_type": "code",
   "execution_count": 63,
   "metadata": {},
   "outputs": [
    {
     "name": "stdout",
     "output_type": "stream",
     "text": [
      "(18, array([0.33681489]))\n"
     ]
    },
    {
     "data": {
      "text/plain": [
       "<matplotlib.collections.PathCollection at 0x26142277f48>"
      ]
     },
     "execution_count": 63,
     "metadata": {},
     "output_type": "execute_result"
    },
    {
     "data": {
      "image/png": "[encoded data removed]",
      "text/plain": [
       "<Figure size 720x432 with 1 Axes>"
      ]
     },
     "metadata": {
      "needs_background": "light"
     },
     "output_type": "display_data"
    }
   ],
   "source": [
    "values = np.arange(0,1000)\n",
    "results = []\n",
    "for alpha in values:\n",
    "    #print(f'Alpha: {alpha}')\n",
    "    reg_ridge = Ridge(alpha=alpha)\n",
    "    scores = cross_val_score(reg_ridge, x, y, cv=5)\n",
    "    score = np.sum(scores)/scores.shape\n",
    "    results.append((alpha,score))\n",
    "#print(results)\n",
    "sorted_by_score = sorted(results, key=lambda tup: tup[1])\n",
    "max_score = sorted_by_score[-1][1]\n",
    "max_alpha = sorted_by_score[-1][0]\n",
    "print(sorted_by_score[-1])\n",
    "\n",
    "alpha_val = [couple[0] for couple in results]\n",
    "score_val = [couple[1] for couple in results]\n",
    "\n",
    "# Plotting\n",
    "fig = plt.figure(figsize=(10,6))\n",
    "fig.suptitle('Score vs. alpha value (5-fold CV)', fontsize=30)\n",
    "#plt.title()\n",
    "plt.xlabel('alpha', fontsize=20)\n",
    "plt.ylabel('score', fontsize=20)\n",
    "#plt.hlines(y=0.815,xmin=0,xmax=5.0,colors='red',linestyles='dashed')\n",
    "plt.plot(alpha_val, score_val)\n",
    "plt.grid(True)\n",
    "plt.scatter(max_alpha, max_score, s=100, c='green', marker='x')\n",
    "#plt.scatter(alpha_val, score_val)"
   ]
  },
  {
   "cell_type": "markdown",
   "metadata": {},
   "source": [
    "### POLYNOMIAL FIT"
   ]
  },
  {
   "cell_type": "code",
   "execution_count": 64,
   "metadata": {},
   "outputs": [
    {
     "name": "stdout",
     "output_type": "stream",
     "text": [
      "R^2: 0.476,\n",
      "R^2_adj: 0.472\n"
     ]
    }
   ],
   "source": [
    "from sklearn.preprocessing import PolynomialFeatures \n",
    "  \n",
    "poly = PolynomialFeatures(degree = 3) \n",
    "x_poly = poly.fit_transform(x) \n",
    "  \n",
    "poly.fit(x_poly, y) \n",
    "lin2 = LinearRegression() \n",
    "lin2.fit(x_poly, y) \n",
    "\n",
    "# The coefficients\n",
    "#print('Coefficients: \\n', lin2.coef_)\n",
    "# The intercept\n",
    "#print('Intercept: \\n', lin2.intercept_)\n",
    "# The score\n",
    "#print('Score: \\n', lin2.score(x_poly, y))\n",
    "print(f\"R^2: {lin2.score(x_poly, y):.3f},\\nR^2_adj: {1 - (1-lin2.score(x_poly, y))*(len(y)-1)/(len(y)-x_poly.shape[1]-1):.3f}\")"
   ]
  },
  {
   "cell_type": "markdown",
   "metadata": {},
   "source": [
    "### GENERALIZED ADDITIVE MODELS"
   ]
  },
  {
   "cell_type": "code",
   "execution_count": 65,
   "metadata": {},
   "outputs": [
    {
     "name": "stderr",
     "output_type": "stream",
     "text": [
      "C:\\Users\\Admin\\Anaconda3\\lib\\site-packages\\ipykernel_launcher.py:9: UserWarning: KNOWN BUG: p-values computed in this summary are likely much smaller than they should be. \n",
      " \n",
      "Please do not make inferences based on these values! \n",
      "\n",
      "Collaborate on a solution, and stay up to date at: \n",
      "github.com/dswah/pyGAM/issues/163 \n",
      "\n",
      "  if __name__ == '__main__':\n",
      " 11% (11 of 100) |##                     | Elapsed Time: 0:00:00 ETA:   0:00:01"
     ]
    },
    {
     "name": "stdout",
     "output_type": "stream",
     "text": [
      "LinearGAM                                                                                                 \n",
      "=============================================== ==========================================================\n",
      "Distribution:                        NormalDist Effective DoF:                                     25.4295\n",
      "Link Function:                     IdentityLink Log Likelihood:                                 -7642.0297\n",
      "Number of Samples:                         1535 AIC:                                            15336.9185\n",
      "                                                AICc:                                           15337.8802\n",
      "                                                GCV:                                               59.2195\n",
      "                                                Scale:                                             57.4563\n",
      "                                                Pseudo R-Squared:                                   0.4713\n",
      "==========================================================================================================\n",
      "Feature Function                  Lambda               Rank         EDoF         P > x        Sig. Code   \n",
      "================================= ==================== ============ ============ ============ ============\n",
      "s(0)                              [0.6]                20           13.5         1.11e-16     ***         \n",
      "s(1)                              [0.6]                20           12.0         1.11e-16     ***         \n",
      "intercept                                              1            0.0          1.11e-16     ***         \n",
      "==========================================================================================================\n",
      "Significance codes:  0 '***' 0.001 '**' 0.01 '*' 0.05 '.' 0.1 ' ' 1\n",
      "\n",
      "WARNING: Fitting splines and a linear function to a feature introduces a model identifiability problem\n",
      "         which can cause p-values to appear significant when they are not.\n",
      "\n",
      "WARNING: p-values calculated in this manner behave correctly for un-penalized models or models with\n",
      "         known smoothing parameters, but when smoothing parameters have been estimated, the p-values\n",
      "         are typically lower than they should be, meaning that the tests reject the null too readily.\n"
     ]
    },
    {
     "name": "stderr",
     "output_type": "stream",
     "text": [
      "100% (100 of 100) |######################| Elapsed Time: 0:00:05 Time:  0:00:05\n"
     ]
    },
    {
     "name": "stdout",
     "output_type": "stream",
     "text": [
      "LinearGAM                                                                                                 \n",
      "=============================================== ==========================================================\n",
      "Distribution:                        NormalDist Effective DoF:                                     15.3366\n",
      "Link Function:                     IdentityLink Log Likelihood:                                 -7647.0107\n",
      "Number of Samples:                         1535 AIC:                                            15326.6947\n",
      "                                                AICc:                                           15327.0679\n",
      "                                                GCV:                                                58.696\n",
      "                                                Scale:                                             57.6413\n",
      "                                                Pseudo R-Squared:                                   0.4661\n",
      "==========================================================================================================\n",
      "Feature Function                  Lambda               Rank         EDoF         P > x        Sig. Code   \n",
      "================================= ==================== ============ ============ ============ ============\n",
      "s(0)                              [0.6]                12           8.3          1.11e-16     ***         \n",
      "s(1)                              [0.6]                12           7.0          1.11e-16     ***         \n",
      "intercept                                              1            0.0          1.11e-16     ***         \n",
      "==========================================================================================================\n",
      "Significance codes:  0 '***' 0.001 '**' 0.01 '*' 0.05 '.' 0.1 ' ' 1\n",
      "\n",
      "WARNING: Fitting splines and a linear function to a feature introduces a model identifiability problem\n",
      "         which can cause p-values to appear significant when they are not.\n",
      "\n",
      "WARNING: p-values calculated in this manner behave correctly for un-penalized models or models with\n",
      "         known smoothing parameters, but when smoothing parameters have been estimated, the p-values\n",
      "         are typically lower than they should be, meaning that the tests reject the null too readily.\n"
     ]
    },
    {
     "name": "stderr",
     "output_type": "stream",
     "text": [
      "C:\\Users\\Admin\\Anaconda3\\lib\\site-packages\\ipykernel_launcher.py:12: UserWarning: KNOWN BUG: p-values computed in this summary are likely much smaller than they should be. \n",
      " \n",
      "Please do not make inferences based on these values! \n",
      "\n",
      "Collaborate on a solution, and stay up to date at: \n",
      "github.com/dswah/pyGAM/issues/163 \n",
      "\n",
      "  if sys.path[0] == '':\n"
     ]
    }
   ],
   "source": [
    "#https://stackoverflow.com/questions/45879954/generalised-additive-model-python\n",
    "#pip install pyGAM\n",
    "from pygam import LinearGAM\n",
    "\n",
    "#lam = np.logspace(-3, 3, 5)\n",
    "#lams = [lam] * 13\n",
    "\n",
    "gam1 = LinearGAM(spline_order=3).fit(x, y)\n",
    "gam1.summary()\n",
    "#gam1.gridsearch(x, y, lam=lams)\n",
    "gam1.gridsearch(x, y, n_splines=np.arange(100))\n",
    "gam1.summary()"
   ]
  },
  {
   "cell_type": "code",
   "execution_count": null,
   "metadata": {},
   "outputs": [],
   "source": []
  }
 ],
 "metadata": {
  "kernelspec": {
   "display_name": "Python 3",
   "language": "python",
   "name": "python3"
  },
  "language_info": {
   "codemirror_mode": {
    "name": "ipython",
    "version": 3
   },
   "file_extension": ".py",
   "mimetype": "text/x-python",
   "name": "python",
   "nbconvert_exporter": "python",
   "pygments_lexer": "ipython3",
   "version": "3.7.4"
  }
 },
 "nbformat": 4,
 "nbformat_minor": 2
}
